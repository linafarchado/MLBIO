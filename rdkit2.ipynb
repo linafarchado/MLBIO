{
 "cells": [
  {
   "cell_type": "markdown",
   "metadata": {},
   "source": [
    "### **Author** : Lina Farchado"
   ]
  },
  {
   "cell_type": "markdown",
   "metadata": {
    "id": "VrUQnEXXvf2o"
   },
   "source": [
    "# Install rdkit\n",
    "\n",
    "using pypi or whatever install rdkit\n"
   ]
  },
  {
   "cell_type": "code",
   "execution_count": 8,
   "metadata": {
    "colab": {
     "base_uri": "https://localhost:8080/"
    },
    "id": "9qJCFDsxp3wJ",
    "outputId": "8725a529-785e-41c3-eec9-7cf152bfacca"
   },
   "outputs": [
    {
     "name": "stdout",
     "output_type": "stream",
     "text": [
      "Requirement already satisfied: rdkit in /usr/local/lib/python3.10/dist-packages (2024.3.5)\n",
      "Requirement already satisfied: numpy in /usr/local/lib/python3.10/dist-packages (from rdkit) (1.26.4)\n",
      "Requirement already satisfied: Pillow in /usr/local/lib/python3.10/dist-packages (from rdkit) (10.4.0)\n"
     ]
    }
   ],
   "source": [
    "pip install rdkit"
   ]
  },
  {
   "cell_type": "code",
   "execution_count": 9,
   "metadata": {
    "id": "zojgolZUsd8F"
   },
   "outputs": [],
   "source": [
    "from rdkit.Chem import MolFromSmiles, Draw, AddHs, SDMolSupplier, Descriptors, AllChem, DataStructs\n",
    "from rdkit.ML.Descriptors.MoleculeDescriptors import MolecularDescriptorCalculator"
   ]
  },
  {
   "cell_type": "markdown",
   "metadata": {
    "id": "TYs-WClCqSsy"
   },
   "source": [
    "## Ex 1. Read molecules from SMILES\n",
    "\n",
    "SMILES (Simplified Molecular-Input Line-Entry System) is a popular method for specifying molecules with text string. The RDkit library provides utilities to read molecules from SMILES.\n",
    "\n",
    "\n",
    "Paracetamol (Acetaminophen) is a commonly used medicine that can help treat pain and reduce a high temperature. It's given by the chemical formula $ C_8H_9N O_2$ and its SMILES is \"CC(=O)NC1=CC=C(O)C=C1\".\n",
    "\n",
    "\n",
    "1. Create the paracetamol molecule from its SMILES using the rdkit.Chem.MolFromSmiles class.\n",
    "\n",
    "\n",
    "2. Visualize its structure (it's sufficient to print the paracetamol molecule or to use rdkit.Chem.Draw.MolToImage())\n",
    "\n",
    "\n",
    "3. Print out the number of atoms. Did you get 11 ? It should be 20 atoms ? Why ?\n",
    "\n",
    "\n",
    "\n",
    "4. Print out the list of atoms.\n",
    "\n",
    "\n",
    "5. Find the number of bonds.\n",
    "\n"
   ]
  },
  {
   "cell_type": "code",
   "execution_count": 10,
   "metadata": {
    "colab": {
     "base_uri": "https://localhost:8080/",
     "height": 317
    },
    "id": "ccbbFmLOqDJV",
    "outputId": "9c4193d4-531d-4a42-b401-78e394d9d999"
   },
   "outputs": [
    {
     "data": {
      "image/jpeg": "[encoded data removed]",
      "image/png": "[encoded data removed]",
      "text/plain": [
       "<PIL.PngImagePlugin.PngImageFile image mode=RGB size=300x300>"
      ]
     },
     "execution_count": 10,
     "metadata": {},
     "output_type": "execute_result"
    }
   ],
   "source": [
    "smile = 'CC(=O)NC1=CC=C(O)C=C1'\n",
    "paracetamol = MolFromSmiles(smile)\n",
    "Draw.MolToImage(paracetamol)"
   ]
  },
  {
   "cell_type": "code",
   "execution_count": 11,
   "metadata": {
    "colab": {
     "base_uri": "https://localhost:8080/"
    },
    "id": "UgNCUxB_srzu",
    "outputId": "3e1cffac-80a0-4a88-c63f-8f5ead0538ff"
   },
   "outputs": [
    {
     "data": {
      "text/plain": [
       "11"
      ]
     },
     "execution_count": 11,
     "metadata": {},
     "output_type": "execute_result"
    }
   ],
   "source": [
    "paracetamol.GetNumAtoms()"
   ]
  },
  {
   "cell_type": "markdown",
   "metadata": {
    "id": "MHhS6dAbswAU"
   },
   "source": [
    "Because it does not take into account the hydrogens"
   ]
  },
  {
   "cell_type": "code",
   "execution_count": 12,
   "metadata": {
    "colab": {
     "base_uri": "https://localhost:8080/"
    },
    "id": "xUadzxRVszAJ",
    "outputId": "ed20a964-74a3-47e3-cebb-061036ea61e4"
   },
   "outputs": [
    {
     "data": {
      "text/plain": [
       "['C', 'C', 'O', 'N', 'C', 'C', 'C', 'C', 'O', 'C', 'C']"
      ]
     },
     "execution_count": 12,
     "metadata": {},
     "output_type": "execute_result"
    }
   ],
   "source": [
    "atoms = [atom.GetSymbol() for atom in paracetamol.GetAtoms()]\n",
    "atoms"
   ]
  },
  {
   "cell_type": "code",
   "execution_count": 13,
   "metadata": {
    "colab": {
     "base_uri": "https://localhost:8080/"
    },
    "id": "R-xr1906s5yr",
    "outputId": "2b48a4a7-4510-4e78-eb31-f8e5d35e628b"
   },
   "outputs": [
    {
     "data": {
      "text/plain": [
       "11"
      ]
     },
     "execution_count": 13,
     "metadata": {},
     "output_type": "execute_result"
    }
   ],
   "source": [
    "n_bond = paracetamol.GetNumBonds()\n",
    "n_bond"
   ]
  },
  {
   "cell_type": "markdown",
   "metadata": {
    "id": "5ch4vabFuReu"
   },
   "source": [
    "## Ex 2 Read data from chemical file format\n",
    "\n",
    "Apart SMILES, .SDF/ .Mol are also the common formats to save molecules. RDKit provides also functionalities to read these files.\n",
    "\n",
    "\n",
    "Morphine is an opioid agonist used for the relief of moderate to severe acute and chronic pain. The chemical information of this drug can be found at\n",
    "the following url: https://go.drugbank.com/structures/small_molecule_drugs/DB00295.sdf\n",
    "\n",
    "\n",
    "1. Download this file and save it in a folder.\n",
    "\n",
    "\n",
    "2. Read the morphine molecule from the file that you've downloaded using \"rdkit.Chem.SDMolSupplier\"\n",
    "\n",
    "\n",
    "3. With the help of rdkit.Chem.AllChem.GetMorganFingerprintAsBitVect, compute its fingerprint as a bit vector."
   ]
  },
  {
   "cell_type": "code",
   "execution_count": 14,
   "metadata": {
    "colab": {
     "base_uri": "https://localhost:8080/"
    },
    "id": "9VLF599Yv5V1",
    "outputId": "4027b21f-1fe9-4c04-a63c-dc21882339ea"
   },
   "outputs": [
    {
     "name": "stderr",
     "output_type": "stream",
     "text": [
      "[11:31:33] DEPRECATION WARNING: please use MorganGenerator\n"
     ]
    }
   ],
   "source": [
    "chemical_info = SDMolSupplier(\"data/morphine.sdf\")\n",
    "morphine = chemical_info[0]\n",
    "morphine_fingerprint = AllChem.GetMorganFingerprintAsBitVect(morphine, 2, nBits=2048)"
   ]
  },
  {
   "cell_type": "markdown",
   "metadata": {
    "id": "gljbmF6p3RX8"
   },
   "source": [
    "## EX3. Fingerprints\n",
    "\n",
    "\n",
    "A chemical structure can be characterized by a set of numerical values known as molecular fingerprints. They may be 2D Fragment-based fingerprints presented by bit arrays of 0s and 1s wherein each bit position indicates the presence or absence of structural fragments.\n",
    "\n",
    "\n",
    "The RDKit has a variety of built-in functionality for generating molecular fingerprints and then using them to calculate molecular similarity. In this exercise, we will generate the fingerprints for parcetamol and aspirin that are two popular drugs used for pains.\n",
    "\n",
    "\n",
    "\n",
    "1. Compute the fingerprint of the paracetamol as bit vector by using the rdkit.AllChem.GetMorganFingerprintAsBitVectCompute Class. Convert it to a numpy vector. Known that Paracetamol's SMILES is \"\"CC(=O)OC1=CC=CC=C1C(O)=O\". Choose the number of bits nBits= 1024. Find the elements that are nonzero of the vector.\n",
    "\n",
    "2. Do the same thing for the aspirin. Aspirin's SMILES is \"CC(=O)NC1=CC=C(O)C=C1\".\n",
    "\n",
    "\n",
    "\n",
    "3. Using rdkit.DataStructs.DiceSimilarity(), compute the DiceSimilarity between the fingerprints of the paracetamol and the aspirin."
   ]
  },
  {
   "cell_type": "code",
   "execution_count": 16,
   "metadata": {
    "id": "Da8jilUxu_WV"
   },
   "outputs": [],
   "source": [
    "from rdkit.Chem import rdFingerprintGenerator\n",
    "\n",
    "mfgen = rdFingerprintGenerator.GetMorganGenerator(radius=2,fpSize=2048)\n",
    "paracetamol_fingerprint = mfgen.GetFingerprint(paracetamol)"
   ]
  },
  {
   "cell_type": "code",
   "execution_count": 17,
   "metadata": {
    "id": "JAQ_CFG6uUVL"
   },
   "outputs": [],
   "source": [
    "import numpy as np\n",
    "from rdkit.Chem import rdFingerprintGenerator\n",
    "\n",
    "def smiles_to_np_morganfingerprinting(smile):\n",
    "    mfgen = rdFingerprintGenerator.GetMorganGenerator(radius=2,fpSize=2048)\n",
    "    fp = mfgen.GetFingerprint(paracetamol)\n",
    "    fingerprint_np = np.zeros((1, 2048))\n",
    "    DataStructs.ConvertToNumpyArray(fp, fingerprint_np)\n",
    "    return fingerprint_np\n",
    "\n",
    "paracetamol_np = smiles_to_np_morganfingerprinting(smile)"
   ]
  },
  {
   "cell_type": "markdown",
   "metadata": {
    "id": "GZXsjZGw3ofC"
   },
   "source": [
    "## EX 4: Descriptors\n",
    "\n",
    "Molecules are also described by a set of physiochemical descriptors. They should be the log partition coefficient, the polar surface area ... that describe the molecule's structure.\n",
    "\n",
    "\n",
    "RDKit provides utilities that allow us to compute descriptor of molecules.\n",
    "Using the rdkit.ML.Descriptors.MoleculeDescriptors.MolecularDescriptorCalculator class, compute the descriptor for paracetamol molecule from SMILES string. Note that SMILES string for paracetamol is \"CC(=O)NC1=CC=C(O)C=C1\"\n",
    "\n"
   ]
  },
  {
   "cell_type": "code",
   "execution_count": 18,
   "metadata": {
    "colab": {
     "base_uri": "https://localhost:8080/"
    },
    "id": "Ki6p5XzoxPS2",
    "outputId": "dd7e5720-e11b-435d-8bd2-1702f3bba15b"
   },
   "outputs": [
    {
     "name": "stdout",
     "output_type": "stream",
     "text": [
      "(10.524468537414966, 10.524468537414966, 0.11510204081632636, -0.11510204081632636, 0.5950261967780849, 9.181818181818182, 151.165, 142.093, 151.063328528, 58, 0, 0.22074743631242583, -0.5079643157925783, 0.5079643157925783, 0.22074743631242583, 1.3636363636363635, 1.9090909090909092, 2.3636363636363638, 16.25468871437965, 10.280190859964755, 1.9280360590359866, -1.9945540738765895, 2.12524757916018, -2.04401131261029, 5.88095478459792, -0.11373578338266109, 1.9291266251851134, 2.7362980721056545, 253.29949758389105, 8.267584713501616, 6.164862962722325, 6.164862962722325, 5.1815405503520555, 3.2490981480278296, 3.2490981480278296, 2.228060242189872, 2.228060242189872, 1.1876733148984595, 1.1876733148984595, 0.7480265991539318, 0.7480265991539318, -1.5099999999999998, 285.51074052739676, 7.595374077976819, 3.0531381005525, 2.292303972882069, 64.66690538413799, 10.423315998847038, 5.749511833283905, 0.0, 5.907179729351506, 0.0, 0.0, 4.794537184071822, 0.0, 0.0, 0.0, 0.0, 24.26546827384644, 12.611123474374185, 0.0, 9.901064578912528, 11.594566004035068, 0.0, 0.0, 0.0, 6.923737199690624, 5.316788604006331, 24.26546827384644, 0.0, 5.749511833283905, 5.316788604006331, 5.687386274683562, 5.749511833283905, 0.0, 11.013707124192212, 4.794537184071822, 0.0, 6.923737199690624, 24.26546827384644, 0.0, 0.0, 0.0, 49.33, 0.0, 4.794537184071822, 0.0, 11.65669156263541, 5.687386274683562, 0.0, 19.056471336613843, 12.13273413692322, 0.0, 5.316788604006331, 5.106527394840706, 0.0, 0.0, 10.524468537414966, 11.460032596371882, 0.6900925925925929, 0.07851095993953194, 6.309537037037037, 0.0, 1.437358276643991, 0.0, 0.125, 11, 2, 3, 0, 0, 0, 1, 0, 1, 2, 2, 3, 1, 0, 0, 0, 1, 1.3505999999999998, 42.41050000000002, 0, 0, 0, 0, 0, 0, 0, 1, 0, 0, 1, 1, 0, 0, 0, 0, 1, 0, 0, 0, 0, 0, 0, 0, 0, 0, 0, 1, 0, 1, 0, 0, 0, 0, 1, 0, 0, 0, 0, 0, 0, 0, 0, 0, 0, 0, 0, 0, 0, 0, 0, 0, 0, 0, 0, 0, 0, 0, 0, 0, 0, 0, 0, 0, 0, 1, 1, 0, 0, 0, 0, 0, 0, 0, 0, 0, 0, 0, 0, 0, 0, 0, 0, 0, 0)\n"
     ]
    },
    {
     "name": "stderr",
     "output_type": "stream",
     "text": [
      "[11:31:54] DEPRECATION WARNING: please use MorganGenerator\n",
      "[11:31:54] DEPRECATION WARNING: please use MorganGenerator\n",
      "[11:31:54] DEPRECATION WARNING: please use MorganGenerator\n"
     ]
    }
   ],
   "source": [
    "calculator = MolecularDescriptorCalculator([t[0] for t in Descriptors._descList])\n",
    "descriptors = calculator.CalcDescriptors(paracetamol)\n",
    "print(descriptors)"
   ]
  },
  {
   "cell_type": "markdown",
   "metadata": {
    "id": "SvHtYagP31vo"
   },
   "source": [
    "## Ex5: SMART\n",
    "\n",
    "In many commonly used applications, we need to determine whether atoms in a molecule match a particular pattern. It can be used for filtering structures or identifying substructures that are associated with toxicological problem.\n",
    "\n",
    "SMART us an extension of the SMILES language that can be used to create queries.\n",
    "\n",
    "1. Find molecules in the following list named \"smiles_list\" that contain the \"CCC\" pattern (you can use the GetSubstructMatch class).\n",
    "\n",
    "\n",
    "2. Highlight the pattern \"CCC\" in these molecules.\n",
    "\n",
    "\n",
    "3. Do the same thing ex 1 but for the pattern \"C(=O)N\"."
   ]
  },
  {
   "cell_type": "code",
   "execution_count": 19,
   "metadata": {
    "id": "mXqKwAO03xQi"
   },
   "outputs": [],
   "source": [
    "# To skip"
   ]
  },
  {
   "cell_type": "markdown",
   "metadata": {
    "id": "UxbRPmkS4LSq"
   },
   "source": [
    "## Ex6: Machine learning with RDkit - Predict solubility\n",
    "\n",
    "In this exercise, we will use machine learning to predict solubility of molecules. For this purpose, we will borrow a dataset from rdkit that is originated from the Huuskonen dataset. We will try to predict Aqueous Solubility for molecules that is known as \"logS\".\n",
    "\n",
    "\n",
    "This exercise is divided into 3 parts: Preparing a dataset, training a model and preparing dataset for prediction and applying a predictive model.\n",
    "\n"
   ]
  },
  {
   "cell_type": "markdown",
   "metadata": {
    "id": "FpqVGPg_4QaQ"
   },
   "source": [
    "## EX6.I Preparing dataset\n",
    "\n",
    "Preparing dataset requires a few steps:\n",
    "\n",
    "\n",
    "1. Download file from the following link: https://raw.githubusercontent.com/rdkit/rdkit/master/Docs/Book/data/solubility.train.sdf.\n",
    "\n",
    "\n",
    "2. With the help of rdkit.Chem.SDMolSupplier, get list of molecules contained in this file. You should call this list as **molecule_list**. The option **removeHs=False** should be chosen.\n",
    "\n",
    "\n",
    "3. Write a function named **calculate_descriptors(mol)** that allows us to calculate descriptors of a molecule. This function takes a Rdkit molecule as input and returns an array vector of descriptors.\n",
    "\n",
    "\n",
    "4. Apply the function **caluclate_descriptors** to the list of molecules **molecule_list** and store the result in a dataframe named **df**. Look at few rows of **df** to see whether the descriptors are calculated.\n",
    "\n",
    "\n",
    "5. For each molecule from this dataset, we can get the aqueous solubility (logS) via attribute **getProp('SOL')**. Create a list that contains the aqueous solubility of all molecules from the **molecule_list** list. You should call this list by **labels**. Remember to convert these values to float format.\n",
    "\n",
    "\n",
    "6. Plot the histogram of the \"labels\" list to see the distribution of the solubility of molecules. Do you have some comments about the aqueous solubility of molecules ?\n",
    "\n"
   ]
  },
  {
   "cell_type": "code",
   "execution_count": 20,
   "metadata": {
    "colab": {
     "base_uri": "https://localhost:8080/",
     "height": 284
    },
    "id": "5eh0CW_eygwy",
    "outputId": "6a342f50-b7dd-4164-f91d-477755197263"
   },
   "outputs": [
    {
     "data": {
      "image/png": "[encoded data removed]",
      "text/html": [
       "<table><tr><td colspan=\"2\" style=\"text-align: center;\"><image src=\"data:image/png;base64,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\"></td></tr>\n",
       "<tr><th style=\"text-align: right\">ID</th><td style=\"text-align: left\">12</td></tr>\n",
       "<tr><th style=\"text-align: right\">NAME</th><td style=\"text-align: left\">n-octane</td></tr>\n",
       "<tr><th style=\"text-align: right\">SOL</th><td style=\"text-align: left\">-5.24</td></tr>\n",
       "<tr><th style=\"text-align: right\">SOL_classification</th><td style=\"text-align: left\">(A) low</td></tr>\n",
       "<tr><th style=\"text-align: right\">smiles</th><td style=\"text-align: left\">CCCCCCCC</td></tr></table>"
      ],
      "text/plain": [
       "<rdkit.Chem.rdchem.Mol at 0x7f8e9e5e6b90>"
      ]
     },
     "execution_count": 20,
     "metadata": {},
     "output_type": "execute_result"
    }
   ],
   "source": [
    "import pandas as pd\n",
    "import matplotlib.pyplot as plt\n",
    "\n",
    "suppl = SDMolSupplier('data/solubility-train.sdf', removeHs=False)\n",
    "molecule_list = [mol for mol in suppl if mol is not None]\n",
    "molecule_list[9]"
   ]
  },
  {
   "cell_type": "code",
   "execution_count": 21,
   "metadata": {
    "id": "3R03XNW1y1A5"
   },
   "outputs": [],
   "source": [
    "def calculate_descriptors(mol):\n",
    "  calculator = MolecularDescriptorCalculator([t[0] for t in Descriptors._descList])\n",
    "  descriptors = calculator.CalcDescriptors(mol)\n",
    "  return descriptors"
   ]
  },
  {
   "cell_type": "code",
   "execution_count": null,
   "metadata": {
    "colab": {
     "base_uri": "https://localhost:8080/"
    },
    "id": "_6SsicAwzXDl",
    "outputId": "5824648e-7504-4632-d7b4-8afc1c61c31a"
   },
   "outputs": [],
   "source": [
    "descriptors_list = [calculate_descriptors(mol) for mol in molecule_list]\n",
    "descriptors_names = [t[0] for t in Descriptors._descList]\n",
    "df = pd.DataFrame(descriptors_list, columns=descriptors_names)"
   ]
  },
  {
   "cell_type": "code",
   "execution_count": 23,
   "metadata": {
    "colab": {
     "base_uri": "https://localhost:8080/",
     "height": 255
    },
    "id": "i24GQy1B0Swc",
    "outputId": "f974c9da-8e0b-4c20-9e50-dbaa6871ad9f"
   },
   "outputs": [
    {
     "data": {
      "application/vnd.google.colaboratory.intrinsic+json": {
       "type": "dataframe",
       "variable_name": "df"
      },
      "text/html": [
       "\n",
       "  <div id=\"df-f2116df4-5de3-4431-9a8e-a0f2599c25ba\" class=\"colab-df-container\">\n",
       "    <div>\n",
       "<style scoped>\n",
       "    .dataframe tbody tr th:only-of-type {\n",
       "        vertical-align: middle;\n",
       "    }\n",
       "\n",
       "    .dataframe tbody tr th {\n",
       "        vertical-align: top;\n",
       "    }\n",
       "\n",
       "    .dataframe thead th {\n",
       "        text-align: right;\n",
       "    }\n",
       "</style>\n",
       "<table border=\"1\" class=\"dataframe\">\n",
       "  <thead>\n",
       "    <tr style=\"text-align: right;\">\n",
       "      <th></th>\n",
       "      <th>MaxAbsEStateIndex</th>\n",
       "      <th>MaxEStateIndex</th>\n",
       "      <th>MinAbsEStateIndex</th>\n",
       "      <th>MinEStateIndex</th>\n",
       "      <th>qed</th>\n",
       "      <th>SPS</th>\n",
       "      <th>MolWt</th>\n",
       "      <th>HeavyAtomMolWt</th>\n",
       "      <th>ExactMolWt</th>\n",
       "      <th>NumValenceElectrons</th>\n",
       "      <th>...</th>\n",
       "      <th>fr_sulfide</th>\n",
       "      <th>fr_sulfonamd</th>\n",
       "      <th>fr_sulfone</th>\n",
       "      <th>fr_term_acetylene</th>\n",
       "      <th>fr_tetrazole</th>\n",
       "      <th>fr_thiazole</th>\n",
       "      <th>fr_thiocyan</th>\n",
       "      <th>fr_thiophene</th>\n",
       "      <th>fr_unbrch_alkane</th>\n",
       "      <th>fr_urea</th>\n",
       "    </tr>\n",
       "  </thead>\n",
       "  <tbody>\n",
       "    <tr>\n",
       "      <th>0</th>\n",
       "      <td>2.211806</td>\n",
       "      <td>2.211806</td>\n",
       "      <td>1.343750</td>\n",
       "      <td>1.343750</td>\n",
       "      <td>0.468786</td>\n",
       "      <td>8.4</td>\n",
       "      <td>72.151</td>\n",
       "      <td>60.055</td>\n",
       "      <td>72.09390</td>\n",
       "      <td>32</td>\n",
       "      <td>...</td>\n",
       "      <td>0</td>\n",
       "      <td>0</td>\n",
       "      <td>0</td>\n",
       "      <td>0</td>\n",
       "      <td>0</td>\n",
       "      <td>0</td>\n",
       "      <td>0</td>\n",
       "      <td>0</td>\n",
       "      <td>2</td>\n",
       "      <td>0</td>\n",
       "    </tr>\n",
       "    <tr>\n",
       "      <th>1</th>\n",
       "      <td>1.500000</td>\n",
       "      <td>1.500000</td>\n",
       "      <td>1.500000</td>\n",
       "      <td>1.500000</td>\n",
       "      <td>0.408362</td>\n",
       "      <td>24.0</td>\n",
       "      <td>70.135</td>\n",
       "      <td>60.055</td>\n",
       "      <td>70.07825</td>\n",
       "      <td>30</td>\n",
       "      <td>...</td>\n",
       "      <td>0</td>\n",
       "      <td>0</td>\n",
       "      <td>0</td>\n",
       "      <td>0</td>\n",
       "      <td>0</td>\n",
       "      <td>0</td>\n",
       "      <td>0</td>\n",
       "      <td>0</td>\n",
       "      <td>0</td>\n",
       "      <td>0</td>\n",
       "    </tr>\n",
       "    <tr>\n",
       "      <th>2</th>\n",
       "      <td>2.231806</td>\n",
       "      <td>2.231806</td>\n",
       "      <td>1.355000</td>\n",
       "      <td>1.355000</td>\n",
       "      <td>0.462954</td>\n",
       "      <td>9.0</td>\n",
       "      <td>86.178</td>\n",
       "      <td>72.066</td>\n",
       "      <td>86.10955</td>\n",
       "      <td>38</td>\n",
       "      <td>...</td>\n",
       "      <td>0</td>\n",
       "      <td>0</td>\n",
       "      <td>0</td>\n",
       "      <td>0</td>\n",
       "      <td>0</td>\n",
       "      <td>0</td>\n",
       "      <td>0</td>\n",
       "      <td>0</td>\n",
       "      <td>3</td>\n",
       "      <td>0</td>\n",
       "    </tr>\n",
       "    <tr>\n",
       "      <th>3</th>\n",
       "      <td>2.253472</td>\n",
       "      <td>2.253472</td>\n",
       "      <td>0.898148</td>\n",
       "      <td>0.898148</td>\n",
       "      <td>0.483890</td>\n",
       "      <td>10.0</td>\n",
       "      <td>86.178</td>\n",
       "      <td>72.066</td>\n",
       "      <td>86.10955</td>\n",
       "      <td>38</td>\n",
       "      <td>...</td>\n",
       "      <td>0</td>\n",
       "      <td>0</td>\n",
       "      <td>0</td>\n",
       "      <td>0</td>\n",
       "      <td>0</td>\n",
       "      <td>0</td>\n",
       "      <td>0</td>\n",
       "      <td>0</td>\n",
       "      <td>0</td>\n",
       "      <td>0</td>\n",
       "    </tr>\n",
       "    <tr>\n",
       "      <th>4</th>\n",
       "      <td>2.243056</td>\n",
       "      <td>2.243056</td>\n",
       "      <td>0.541667</td>\n",
       "      <td>0.541667</td>\n",
       "      <td>0.424482</td>\n",
       "      <td>12.0</td>\n",
       "      <td>86.178</td>\n",
       "      <td>72.066</td>\n",
       "      <td>86.10955</td>\n",
       "      <td>38</td>\n",
       "      <td>...</td>\n",
       "      <td>0</td>\n",
       "      <td>0</td>\n",
       "      <td>0</td>\n",
       "      <td>0</td>\n",
       "      <td>0</td>\n",
       "      <td>0</td>\n",
       "      <td>0</td>\n",
       "      <td>0</td>\n",
       "      <td>0</td>\n",
       "      <td>0</td>\n",
       "    </tr>\n",
       "  </tbody>\n",
       "</table>\n",
       "<p>5 rows × 210 columns</p>\n",
       "</div>\n",
       "    <div class=\"colab-df-buttons\">\n",
       "\n",
       "  <div class=\"colab-df-container\">\n",
       "    <button class=\"colab-df-convert\" onclick=\"convertToInteractive('df-f2116df4-5de3-4431-9a8e-a0f2599c25ba')\"\n",
       "            title=\"Convert this dataframe to an interactive table.\"\n",
       "            style=\"display:none;\">\n",
       "\n",
       "  <svg xmlns=\"http://www.w3.org/2000/svg\" height=\"24px\" viewBox=\"0 -960 960 960\">\n",
       "    <path d=\"M120-120v-720h720v720H120Zm60-500h600v-160H180v160Zm220 220h160v-160H400v160Zm0 220h160v-160H400v160ZM180-400h160v-160H180v160Zm440 0h160v-160H620v160ZM180-180h160v-160H180v160Zm440 0h160v-160H620v160Z\"/>\n",
       "  </svg>\n",
       "    </button>\n",
       "\n",
       "  <style>\n",
       "    .colab-df-container {\n",
       "      display:flex;\n",
       "      gap: 12px;\n",
       "    }\n",
       "\n",
       "    .colab-df-convert {\n",
       "      background-color: #E8F0FE;\n",
       "      border: none;\n",
       "      border-radius: 50%;\n",
       "      cursor: pointer;\n",
       "      display: none;\n",
       "      fill: #1967D2;\n",
       "      height: 32px;\n",
       "      padding: 0 0 0 0;\n",
       "      width: 32px;\n",
       "    }\n",
       "\n",
       "    .colab-df-convert:hover {\n",
       "      background-color: #E2EBFA;\n",
       "      box-shadow: 0px 1px 2px rgba(60, 64, 67, 0.3), 0px 1px 3px 1px rgba(60, 64, 67, 0.15);\n",
       "      fill: #174EA6;\n",
       "    }\n",
       "\n",
       "    .colab-df-buttons div {\n",
       "      margin-bottom: 4px;\n",
       "    }\n",
       "\n",
       "    [theme=dark] .colab-df-convert {\n",
       "      background-color: #3B4455;\n",
       "      fill: #D2E3FC;\n",
       "    }\n",
       "\n",
       "    [theme=dark] .colab-df-convert:hover {\n",
       "      background-color: #434B5C;\n",
       "      box-shadow: 0px 1px 3px 1px rgba(0, 0, 0, 0.15);\n",
       "      filter: drop-shadow(0px 1px 2px rgba(0, 0, 0, 0.3));\n",
       "      fill: #FFFFFF;\n",
       "    }\n",
       "  </style>\n",
       "\n",
       "    <script>\n",
       "      const buttonEl =\n",
       "        document.querySelector('#df-f2116df4-5de3-4431-9a8e-a0f2599c25ba button.colab-df-convert');\n",
       "      buttonEl.style.display =\n",
       "        google.colab.kernel.accessAllowed ? 'block' : 'none';\n",
       "\n",
       "      async function convertToInteractive(key) {\n",
       "        const element = document.querySelector('#df-f2116df4-5de3-4431-9a8e-a0f2599c25ba');\n",
       "        const dataTable =\n",
       "          await google.colab.kernel.invokeFunction('convertToInteractive',\n",
       "                                                    [key], {});\n",
       "        if (!dataTable) return;\n",
       "\n",
       "        const docLinkHtml = 'Like what you see? Visit the ' +\n",
       "          '<a target=\"_blank\" href=https://colab.research.google.com/notebooks/data_table.ipynb>data table notebook</a>'\n",
       "          + ' to learn more about interactive tables.';\n",
       "        element.innerHTML = '';\n",
       "        dataTable['output_type'] = 'display_data';\n",
       "        await google.colab.output.renderOutput(dataTable, element);\n",
       "        const docLink = document.createElement('div');\n",
       "        docLink.innerHTML = docLinkHtml;\n",
       "        element.appendChild(docLink);\n",
       "      }\n",
       "    </script>\n",
       "  </div>\n",
       "\n",
       "\n",
       "<div id=\"df-24f81b1a-e278-47a9-9094-3644d9167c33\">\n",
       "  <button class=\"colab-df-quickchart\" onclick=\"quickchart('df-24f81b1a-e278-47a9-9094-3644d9167c33')\"\n",
       "            title=\"Suggest charts\"\n",
       "            style=\"display:none;\">\n",
       "\n",
       "<svg xmlns=\"http://www.w3.org/2000/svg\" height=\"24px\"viewBox=\"0 0 24 24\"\n",
       "     width=\"24px\">\n",
       "    <g>\n",
       "        <path d=\"M19 3H5c-1.1 0-2 .9-2 2v14c0 1.1.9 2 2 2h14c1.1 0 2-.9 2-2V5c0-1.1-.9-2-2-2zM9 17H7v-7h2v7zm4 0h-2V7h2v10zm4 0h-2v-4h2v4z\"/>\n",
       "    </g>\n",
       "</svg>\n",
       "  </button>\n",
       "\n",
       "<style>\n",
       "  .colab-df-quickchart {\n",
       "      --bg-color: #E8F0FE;\n",
       "      --fill-color: #1967D2;\n",
       "      --hover-bg-color: #E2EBFA;\n",
       "      --hover-fill-color: #174EA6;\n",
       "      --disabled-fill-color: #AAA;\n",
       "      --disabled-bg-color: #DDD;\n",
       "  }\n",
       "\n",
       "  [theme=dark] .colab-df-quickchart {\n",
       "      --bg-color: #3B4455;\n",
       "      --fill-color: #D2E3FC;\n",
       "      --hover-bg-color: #434B5C;\n",
       "      --hover-fill-color: #FFFFFF;\n",
       "      --disabled-bg-color: #3B4455;\n",
       "      --disabled-fill-color: #666;\n",
       "  }\n",
       "\n",
       "  .colab-df-quickchart {\n",
       "    background-color: var(--bg-color);\n",
       "    border: none;\n",
       "    border-radius: 50%;\n",
       "    cursor: pointer;\n",
       "    display: none;\n",
       "    fill: var(--fill-color);\n",
       "    height: 32px;\n",
       "    padding: 0;\n",
       "    width: 32px;\n",
       "  }\n",
       "\n",
       "  .colab-df-quickchart:hover {\n",
       "    background-color: var(--hover-bg-color);\n",
       "    box-shadow: 0 1px 2px rgba(60, 64, 67, 0.3), 0 1px 3px 1px rgba(60, 64, 67, 0.15);\n",
       "    fill: var(--button-hover-fill-color);\n",
       "  }\n",
       "\n",
       "  .colab-df-quickchart-complete:disabled,\n",
       "  .colab-df-quickchart-complete:disabled:hover {\n",
       "    background-color: var(--disabled-bg-color);\n",
       "    fill: var(--disabled-fill-color);\n",
       "    box-shadow: none;\n",
       "  }\n",
       "\n",
       "  .colab-df-spinner {\n",
       "    border: 2px solid var(--fill-color);\n",
       "    border-color: transparent;\n",
       "    border-bottom-color: var(--fill-color);\n",
       "    animation:\n",
       "      spin 1s steps(1) infinite;\n",
       "  }\n",
       "\n",
       "  @keyframes spin {\n",
       "    0% {\n",
       "      border-color: transparent;\n",
       "      border-bottom-color: var(--fill-color);\n",
       "      border-left-color: var(--fill-color);\n",
       "    }\n",
       "    20% {\n",
       "      border-color: transparent;\n",
       "      border-left-color: var(--fill-color);\n",
       "      border-top-color: var(--fill-color);\n",
       "    }\n",
       "    30% {\n",
       "      border-color: transparent;\n",
       "      border-left-color: var(--fill-color);\n",
       "      border-top-color: var(--fill-color);\n",
       "      border-right-color: var(--fill-color);\n",
       "    }\n",
       "    40% {\n",
       "      border-color: transparent;\n",
       "      border-right-color: var(--fill-color);\n",
       "      border-top-color: var(--fill-color);\n",
       "    }\n",
       "    60% {\n",
       "      border-color: transparent;\n",
       "      border-right-color: var(--fill-color);\n",
       "    }\n",
       "    80% {\n",
       "      border-color: transparent;\n",
       "      border-right-color: var(--fill-color);\n",
       "      border-bottom-color: var(--fill-color);\n",
       "    }\n",
       "    90% {\n",
       "      border-color: transparent;\n",
       "      border-bottom-color: var(--fill-color);\n",
       "    }\n",
       "  }\n",
       "</style>\n",
       "\n",
       "  <script>\n",
       "    async function quickchart(key) {\n",
       "      const quickchartButtonEl =\n",
       "        document.querySelector('#' + key + ' button');\n",
       "      quickchartButtonEl.disabled = true;  // To prevent multiple clicks.\n",
       "      quickchartButtonEl.classList.add('colab-df-spinner');\n",
       "      try {\n",
       "        const charts = await google.colab.kernel.invokeFunction(\n",
       "            'suggestCharts', [key], {});\n",
       "      } catch (error) {\n",
       "        console.error('Error during call to suggestCharts:', error);\n",
       "      }\n",
       "      quickchartButtonEl.classList.remove('colab-df-spinner');\n",
       "      quickchartButtonEl.classList.add('colab-df-quickchart-complete');\n",
       "    }\n",
       "    (() => {\n",
       "      let quickchartButtonEl =\n",
       "        document.querySelector('#df-24f81b1a-e278-47a9-9094-3644d9167c33 button');\n",
       "      quickchartButtonEl.style.display =\n",
       "        google.colab.kernel.accessAllowed ? 'block' : 'none';\n",
       "    })();\n",
       "  </script>\n",
       "</div>\n",
       "\n",
       "    </div>\n",
       "  </div>\n"
      ],
      "text/plain": [
       "   MaxAbsEStateIndex  MaxEStateIndex  MinAbsEStateIndex  MinEStateIndex  \\\n",
       "0           2.211806        2.211806           1.343750        1.343750   \n",
       "1           1.500000        1.500000           1.500000        1.500000   \n",
       "2           2.231806        2.231806           1.355000        1.355000   \n",
       "3           2.253472        2.253472           0.898148        0.898148   \n",
       "4           2.243056        2.243056           0.541667        0.541667   \n",
       "\n",
       "        qed   SPS   MolWt  HeavyAtomMolWt  ExactMolWt  NumValenceElectrons  \\\n",
       "0  0.468786   8.4  72.151          60.055    72.09390                   32   \n",
       "1  0.408362  24.0  70.135          60.055    70.07825                   30   \n",
       "2  0.462954   9.0  86.178          72.066    86.10955                   38   \n",
       "3  0.483890  10.0  86.178          72.066    86.10955                   38   \n",
       "4  0.424482  12.0  86.178          72.066    86.10955                   38   \n",
       "\n",
       "   ...  fr_sulfide  fr_sulfonamd  fr_sulfone  fr_term_acetylene  fr_tetrazole  \\\n",
       "0  ...           0             0           0                  0             0   \n",
       "1  ...           0             0           0                  0             0   \n",
       "2  ...           0             0           0                  0             0   \n",
       "3  ...           0             0           0                  0             0   \n",
       "4  ...           0             0           0                  0             0   \n",
       "\n",
       "   fr_thiazole  fr_thiocyan  fr_thiophene  fr_unbrch_alkane  fr_urea  \n",
       "0            0            0             0                 2        0  \n",
       "1            0            0             0                 0        0  \n",
       "2            0            0             0                 3        0  \n",
       "3            0            0             0                 0        0  \n",
       "4            0            0             0                 0        0  \n",
       "\n",
       "[5 rows x 210 columns]"
      ]
     },
     "execution_count": 23,
     "metadata": {},
     "output_type": "execute_result"
    }
   ],
   "source": [
    "df.head()"
   ]
  },
  {
   "cell_type": "code",
   "execution_count": 24,
   "metadata": {
    "colab": {
     "base_uri": "https://localhost:8080/"
    },
    "id": "YKgrdNjowHCW",
    "outputId": "cd772dee-4e6a-4cd2-c90d-6b628918dab9"
   },
   "outputs": [
    {
     "data": {
      "text/plain": [
       "-5.24"
      ]
     },
     "execution_count": 24,
     "metadata": {},
     "output_type": "execute_result"
    }
   ],
   "source": [
    "labels = [float(mol.GetProp('SOL')) for mol in molecule_list]\n",
    "labels[9]"
   ]
  },
  {
   "cell_type": "code",
   "execution_count": 25,
   "metadata": {
    "colab": {
     "base_uri": "https://localhost:8080/",
     "height": 472
    },
    "id": "ISkfIsuZ0kKT",
    "outputId": "acbaf39e-bd23-40d2-cbb7-d04acf9662fc"
   },
   "outputs": [
    {
     "data": {
      "image/png": "[encoded data removed]",
      "text/plain": [
       "<Figure size 640x480 with 1 Axes>"
      ]
     },
     "metadata": {},
     "output_type": "display_data"
    }
   ],
   "source": [
    "plt.hist(labels, bins=20)\n",
    "plt.xlabel('Aqueous Solubility (logS)')\n",
    "plt.ylabel('Frequency')\n",
    "plt.title('Distribution of Aqueous Solubility')\n",
    "plt.show()"
   ]
  },
  {
   "cell_type": "markdown",
   "metadata": {
    "id": "4GKE_sc11J_b"
   },
   "source": [
    "Le graphique montre la distribution de la solubilité aqueuse (logS) de différentes molécules. La plupart des molécules ont une solubilité logS comprise entre -6 et 0, avec un pic autour de -2, indiquant que la majorité des molécules ont une solubilité modérée à faible."
   ]
  },
  {
   "cell_type": "markdown",
   "metadata": {
    "id": "KRtVHEjH5M9m"
   },
   "source": [
    "## Ex6.II Feature Engineering and Training a model of regression.\n",
    "\n",
    "Now, we have the **df** dataframe that contains the descriptors for molecules and the **labels** list that contains the solvant property of molecules.\n",
    "\n",
    "1. Check the dataframe **df** to see whether it contains NaN values. How many row contained NaN values are there in the dataframe **df** ? Remove these rows from  **df** and **labels**.\n",
    "\n",
    "\n",
    "2. Apply the MinMaxScaler to the dataframe **df** to normalize the data.\n",
    "\n",
    "\n",
    "3. Construct and train a regression model.\n",
    "\n",
    "\n",
    "4. Calculate the square root error for the dataset"
   ]
  },
  {
   "cell_type": "code",
   "execution_count": 26,
   "metadata": {
    "colab": {
     "base_uri": "https://localhost:8080/"
    },
    "id": "NYNB0Lwg1bEh",
    "outputId": "ba5f0f80-ac53-4a8f-cc1a-f1451cc0e762"
   },
   "outputs": [
    {
     "name": "stdout",
     "output_type": "stream",
     "text": [
      "Number of rows with NaN values: 1\n"
     ]
    }
   ],
   "source": [
    "rows_with_nan = df.isnull().any(axis=1)\n",
    "print(f\"Number of rows with NaN values: {rows_with_nan.sum()}\")\n",
    "\n",
    "df = df[~rows_with_nan]\n",
    "labels = [label for i, label in enumerate(labels) if not rows_with_nan[i]]"
   ]
  },
  {
   "cell_type": "code",
   "execution_count": 27,
   "metadata": {
    "id": "3iPKMPW946DO"
   },
   "outputs": [],
   "source": [
    "from sklearn.preprocessing import MinMaxScaler\n",
    "\n",
    "scaler = MinMaxScaler()\n",
    "df_scaled = pd.DataFrame(scaler.fit_transform(df), columns=df.columns)"
   ]
  },
  {
   "cell_type": "code",
   "execution_count": 28,
   "metadata": {
    "colab": {
     "base_uri": "https://localhost:8080/",
     "height": 80
    },
    "id": "uDy-OAHF4_gx",
    "outputId": "92e993f6-919f-4a14-bf04-8fde219bbc3d"
   },
   "outputs": [
    {
     "data": {
      "text/html": [
       "<style>#sk-container-id-1 {\n",
       "  /* Definition of color scheme common for light and dark mode */\n",
       "  --sklearn-color-text: black;\n",
       "  --sklearn-color-line: gray;\n",
       "  /* Definition of color scheme for unfitted estimators */\n",
       "  --sklearn-color-unfitted-level-0: #fff5e6;\n",
       "  --sklearn-color-unfitted-level-1: #f6e4d2;\n",
       "  --sklearn-color-unfitted-level-2: #ffe0b3;\n",
       "  --sklearn-color-unfitted-level-3: chocolate;\n",
       "  /* Definition of color scheme for fitted estimators */\n",
       "  --sklearn-color-fitted-level-0: #f0f8ff;\n",
       "  --sklearn-color-fitted-level-1: #d4ebff;\n",
       "  --sklearn-color-fitted-level-2: #b3dbfd;\n",
       "  --sklearn-color-fitted-level-3: cornflowerblue;\n",
       "\n",
       "  /* Specific color for light theme */\n",
       "  --sklearn-color-text-on-default-background: var(--sg-text-color, var(--theme-code-foreground, var(--jp-content-font-color1, black)));\n",
       "  --sklearn-color-background: var(--sg-background-color, var(--theme-background, var(--jp-layout-color0, white)));\n",
       "  --sklearn-color-border-box: var(--sg-text-color, var(--theme-code-foreground, var(--jp-content-font-color1, black)));\n",
       "  --sklearn-color-icon: #696969;\n",
       "\n",
       "  @media (prefers-color-scheme: dark) {\n",
       "    /* Redefinition of color scheme for dark theme */\n",
       "    --sklearn-color-text-on-default-background: var(--sg-text-color, var(--theme-code-foreground, var(--jp-content-font-color1, white)));\n",
       "    --sklearn-color-background: var(--sg-background-color, var(--theme-background, var(--jp-layout-color0, #111)));\n",
       "    --sklearn-color-border-box: var(--sg-text-color, var(--theme-code-foreground, var(--jp-content-font-color1, white)));\n",
       "    --sklearn-color-icon: #878787;\n",
       "  }\n",
       "}\n",
       "\n",
       "#sk-container-id-1 {\n",
       "  color: var(--sklearn-color-text);\n",
       "}\n",
       "\n",
       "#sk-container-id-1 pre {\n",
       "  padding: 0;\n",
       "}\n",
       "\n",
       "#sk-container-id-1 input.sk-hidden--visually {\n",
       "  border: 0;\n",
       "  clip: rect(1px 1px 1px 1px);\n",
       "  clip: rect(1px, 1px, 1px, 1px);\n",
       "  height: 1px;\n",
       "  margin: -1px;\n",
       "  overflow: hidden;\n",
       "  padding: 0;\n",
       "  position: absolute;\n",
       "  width: 1px;\n",
       "}\n",
       "\n",
       "#sk-container-id-1 div.sk-dashed-wrapped {\n",
       "  border: 1px dashed var(--sklearn-color-line);\n",
       "  margin: 0 0.4em 0.5em 0.4em;\n",
       "  box-sizing: border-box;\n",
       "  padding-bottom: 0.4em;\n",
       "  background-color: var(--sklearn-color-background);\n",
       "}\n",
       "\n",
       "#sk-container-id-1 div.sk-container {\n",
       "  /* jupyter's `normalize.less` sets `[hidden] { display: none; }`\n",
       "     but bootstrap.min.css set `[hidden] { display: none !important; }`\n",
       "     so we also need the `!important` here to be able to override the\n",
       "     default hidden behavior on the sphinx rendered scikit-learn.org.\n",
       "     See: https://github.com/scikit-learn/scikit-learn/issues/21755 */\n",
       "  display: inline-block !important;\n",
       "  position: relative;\n",
       "}\n",
       "\n",
       "#sk-container-id-1 div.sk-text-repr-fallback {\n",
       "  display: none;\n",
       "}\n",
       "\n",
       "div.sk-parallel-item,\n",
       "div.sk-serial,\n",
       "div.sk-item {\n",
       "  /* draw centered vertical line to link estimators */\n",
       "  background-image: linear-gradient(var(--sklearn-color-text-on-default-background), var(--sklearn-color-text-on-default-background));\n",
       "  background-size: 2px 100%;\n",
       "  background-repeat: no-repeat;\n",
       "  background-position: center center;\n",
       "}\n",
       "\n",
       "/* Parallel-specific style estimator block */\n",
       "\n",
       "#sk-container-id-1 div.sk-parallel-item::after {\n",
       "  content: \"\";\n",
       "  width: 100%;\n",
       "  border-bottom: 2px solid var(--sklearn-color-text-on-default-background);\n",
       "  flex-grow: 1;\n",
       "}\n",
       "\n",
       "#sk-container-id-1 div.sk-parallel {\n",
       "  display: flex;\n",
       "  align-items: stretch;\n",
       "  justify-content: center;\n",
       "  background-color: var(--sklearn-color-background);\n",
       "  position: relative;\n",
       "}\n",
       "\n",
       "#sk-container-id-1 div.sk-parallel-item {\n",
       "  display: flex;\n",
       "  flex-direction: column;\n",
       "}\n",
       "\n",
       "#sk-container-id-1 div.sk-parallel-item:first-child::after {\n",
       "  align-self: flex-end;\n",
       "  width: 50%;\n",
       "}\n",
       "\n",
       "#sk-container-id-1 div.sk-parallel-item:last-child::after {\n",
       "  align-self: flex-start;\n",
       "  width: 50%;\n",
       "}\n",
       "\n",
       "#sk-container-id-1 div.sk-parallel-item:only-child::after {\n",
       "  width: 0;\n",
       "}\n",
       "\n",
       "/* Serial-specific style estimator block */\n",
       "\n",
       "#sk-container-id-1 div.sk-serial {\n",
       "  display: flex;\n",
       "  flex-direction: column;\n",
       "  align-items: center;\n",
       "  background-color: var(--sklearn-color-background);\n",
       "  padding-right: 1em;\n",
       "  padding-left: 1em;\n",
       "}\n",
       "\n",
       "\n",
       "/* Toggleable style: style used for estimator/Pipeline/ColumnTransformer box that is\n",
       "clickable and can be expanded/collapsed.\n",
       "- Pipeline and ColumnTransformer use this feature and define the default style\n",
       "- Estimators will overwrite some part of the style using the `sk-estimator` class\n",
       "*/\n",
       "\n",
       "/* Pipeline and ColumnTransformer style (default) */\n",
       "\n",
       "#sk-container-id-1 div.sk-toggleable {\n",
       "  /* Default theme specific background. It is overwritten whether we have a\n",
       "  specific estimator or a Pipeline/ColumnTransformer */\n",
       "  background-color: var(--sklearn-color-background);\n",
       "}\n",
       "\n",
       "/* Toggleable label */\n",
       "#sk-container-id-1 label.sk-toggleable__label {\n",
       "  cursor: pointer;\n",
       "  display: block;\n",
       "  width: 100%;\n",
       "  margin-bottom: 0;\n",
       "  padding: 0.5em;\n",
       "  box-sizing: border-box;\n",
       "  text-align: center;\n",
       "}\n",
       "\n",
       "#sk-container-id-1 label.sk-toggleable__label-arrow:before {\n",
       "  /* Arrow on the left of the label */\n",
       "  content: \"▸\";\n",
       "  float: left;\n",
       "  margin-right: 0.25em;\n",
       "  color: var(--sklearn-color-icon);\n",
       "}\n",
       "\n",
       "#sk-container-id-1 label.sk-toggleable__label-arrow:hover:before {\n",
       "  color: var(--sklearn-color-text);\n",
       "}\n",
       "\n",
       "/* Toggleable content - dropdown */\n",
       "\n",
       "#sk-container-id-1 div.sk-toggleable__content {\n",
       "  max-height: 0;\n",
       "  max-width: 0;\n",
       "  overflow: hidden;\n",
       "  text-align: left;\n",
       "  /* unfitted */\n",
       "  background-color: var(--sklearn-color-unfitted-level-0);\n",
       "}\n",
       "\n",
       "#sk-container-id-1 div.sk-toggleable__content.fitted {\n",
       "  /* fitted */\n",
       "  background-color: var(--sklearn-color-fitted-level-0);\n",
       "}\n",
       "\n",
       "#sk-container-id-1 div.sk-toggleable__content pre {\n",
       "  margin: 0.2em;\n",
       "  border-radius: 0.25em;\n",
       "  color: var(--sklearn-color-text);\n",
       "  /* unfitted */\n",
       "  background-color: var(--sklearn-color-unfitted-level-0);\n",
       "}\n",
       "\n",
       "#sk-container-id-1 div.sk-toggleable__content.fitted pre {\n",
       "  /* unfitted */\n",
       "  background-color: var(--sklearn-color-fitted-level-0);\n",
       "}\n",
       "\n",
       "#sk-container-id-1 input.sk-toggleable__control:checked~div.sk-toggleable__content {\n",
       "  /* Expand drop-down */\n",
       "  max-height: 200px;\n",
       "  max-width: 100%;\n",
       "  overflow: auto;\n",
       "}\n",
       "\n",
       "#sk-container-id-1 input.sk-toggleable__control:checked~label.sk-toggleable__label-arrow:before {\n",
       "  content: \"▾\";\n",
       "}\n",
       "\n",
       "/* Pipeline/ColumnTransformer-specific style */\n",
       "\n",
       "#sk-container-id-1 div.sk-label input.sk-toggleable__control:checked~label.sk-toggleable__label {\n",
       "  color: var(--sklearn-color-text);\n",
       "  background-color: var(--sklearn-color-unfitted-level-2);\n",
       "}\n",
       "\n",
       "#sk-container-id-1 div.sk-label.fitted input.sk-toggleable__control:checked~label.sk-toggleable__label {\n",
       "  background-color: var(--sklearn-color-fitted-level-2);\n",
       "}\n",
       "\n",
       "/* Estimator-specific style */\n",
       "\n",
       "/* Colorize estimator box */\n",
       "#sk-container-id-1 div.sk-estimator input.sk-toggleable__control:checked~label.sk-toggleable__label {\n",
       "  /* unfitted */\n",
       "  background-color: var(--sklearn-color-unfitted-level-2);\n",
       "}\n",
       "\n",
       "#sk-container-id-1 div.sk-estimator.fitted input.sk-toggleable__control:checked~label.sk-toggleable__label {\n",
       "  /* fitted */\n",
       "  background-color: var(--sklearn-color-fitted-level-2);\n",
       "}\n",
       "\n",
       "#sk-container-id-1 div.sk-label label.sk-toggleable__label,\n",
       "#sk-container-id-1 div.sk-label label {\n",
       "  /* The background is the default theme color */\n",
       "  color: var(--sklearn-color-text-on-default-background);\n",
       "}\n",
       "\n",
       "/* On hover, darken the color of the background */\n",
       "#sk-container-id-1 div.sk-label:hover label.sk-toggleable__label {\n",
       "  color: var(--sklearn-color-text);\n",
       "  background-color: var(--sklearn-color-unfitted-level-2);\n",
       "}\n",
       "\n",
       "/* Label box, darken color on hover, fitted */\n",
       "#sk-container-id-1 div.sk-label.fitted:hover label.sk-toggleable__label.fitted {\n",
       "  color: var(--sklearn-color-text);\n",
       "  background-color: var(--sklearn-color-fitted-level-2);\n",
       "}\n",
       "\n",
       "/* Estimator label */\n",
       "\n",
       "#sk-container-id-1 div.sk-label label {\n",
       "  font-family: monospace;\n",
       "  font-weight: bold;\n",
       "  display: inline-block;\n",
       "  line-height: 1.2em;\n",
       "}\n",
       "\n",
       "#sk-container-id-1 div.sk-label-container {\n",
       "  text-align: center;\n",
       "}\n",
       "\n",
       "/* Estimator-specific */\n",
       "#sk-container-id-1 div.sk-estimator {\n",
       "  font-family: monospace;\n",
       "  border: 1px dotted var(--sklearn-color-border-box);\n",
       "  border-radius: 0.25em;\n",
       "  box-sizing: border-box;\n",
       "  margin-bottom: 0.5em;\n",
       "  /* unfitted */\n",
       "  background-color: var(--sklearn-color-unfitted-level-0);\n",
       "}\n",
       "\n",
       "#sk-container-id-1 div.sk-estimator.fitted {\n",
       "  /* fitted */\n",
       "  background-color: var(--sklearn-color-fitted-level-0);\n",
       "}\n",
       "\n",
       "/* on hover */\n",
       "#sk-container-id-1 div.sk-estimator:hover {\n",
       "  /* unfitted */\n",
       "  background-color: var(--sklearn-color-unfitted-level-2);\n",
       "}\n",
       "\n",
       "#sk-container-id-1 div.sk-estimator.fitted:hover {\n",
       "  /* fitted */\n",
       "  background-color: var(--sklearn-color-fitted-level-2);\n",
       "}\n",
       "\n",
       "/* Specification for estimator info (e.g. \"i\" and \"?\") */\n",
       "\n",
       "/* Common style for \"i\" and \"?\" */\n",
       "\n",
       ".sk-estimator-doc-link,\n",
       "a:link.sk-estimator-doc-link,\n",
       "a:visited.sk-estimator-doc-link {\n",
       "  float: right;\n",
       "  font-size: smaller;\n",
       "  line-height: 1em;\n",
       "  font-family: monospace;\n",
       "  background-color: var(--sklearn-color-background);\n",
       "  border-radius: 1em;\n",
       "  height: 1em;\n",
       "  width: 1em;\n",
       "  text-decoration: none !important;\n",
       "  margin-left: 1ex;\n",
       "  /* unfitted */\n",
       "  border: var(--sklearn-color-unfitted-level-1) 1pt solid;\n",
       "  color: var(--sklearn-color-unfitted-level-1);\n",
       "}\n",
       "\n",
       ".sk-estimator-doc-link.fitted,\n",
       "a:link.sk-estimator-doc-link.fitted,\n",
       "a:visited.sk-estimator-doc-link.fitted {\n",
       "  /* fitted */\n",
       "  border: var(--sklearn-color-fitted-level-1) 1pt solid;\n",
       "  color: var(--sklearn-color-fitted-level-1);\n",
       "}\n",
       "\n",
       "/* On hover */\n",
       "div.sk-estimator:hover .sk-estimator-doc-link:hover,\n",
       ".sk-estimator-doc-link:hover,\n",
       "div.sk-label-container:hover .sk-estimator-doc-link:hover,\n",
       ".sk-estimator-doc-link:hover {\n",
       "  /* unfitted */\n",
       "  background-color: var(--sklearn-color-unfitted-level-3);\n",
       "  color: var(--sklearn-color-background);\n",
       "  text-decoration: none;\n",
       "}\n",
       "\n",
       "div.sk-estimator.fitted:hover .sk-estimator-doc-link.fitted:hover,\n",
       ".sk-estimator-doc-link.fitted:hover,\n",
       "div.sk-label-container:hover .sk-estimator-doc-link.fitted:hover,\n",
       ".sk-estimator-doc-link.fitted:hover {\n",
       "  /* fitted */\n",
       "  background-color: var(--sklearn-color-fitted-level-3);\n",
       "  color: var(--sklearn-color-background);\n",
       "  text-decoration: none;\n",
       "}\n",
       "\n",
       "/* Span, style for the box shown on hovering the info icon */\n",
       ".sk-estimator-doc-link span {\n",
       "  display: none;\n",
       "  z-index: 9999;\n",
       "  position: relative;\n",
       "  font-weight: normal;\n",
       "  right: .2ex;\n",
       "  padding: .5ex;\n",
       "  margin: .5ex;\n",
       "  width: min-content;\n",
       "  min-width: 20ex;\n",
       "  max-width: 50ex;\n",
       "  color: var(--sklearn-color-text);\n",
       "  box-shadow: 2pt 2pt 4pt #999;\n",
       "  /* unfitted */\n",
       "  background: var(--sklearn-color-unfitted-level-0);\n",
       "  border: .5pt solid var(--sklearn-color-unfitted-level-3);\n",
       "}\n",
       "\n",
       ".sk-estimator-doc-link.fitted span {\n",
       "  /* fitted */\n",
       "  background: var(--sklearn-color-fitted-level-0);\n",
       "  border: var(--sklearn-color-fitted-level-3);\n",
       "}\n",
       "\n",
       ".sk-estimator-doc-link:hover span {\n",
       "  display: block;\n",
       "}\n",
       "\n",
       "/* \"?\"-specific style due to the `<a>` HTML tag */\n",
       "\n",
       "#sk-container-id-1 a.estimator_doc_link {\n",
       "  float: right;\n",
       "  font-size: 1rem;\n",
       "  line-height: 1em;\n",
       "  font-family: monospace;\n",
       "  background-color: var(--sklearn-color-background);\n",
       "  border-radius: 1rem;\n",
       "  height: 1rem;\n",
       "  width: 1rem;\n",
       "  text-decoration: none;\n",
       "  /* unfitted */\n",
       "  color: var(--sklearn-color-unfitted-level-1);\n",
       "  border: var(--sklearn-color-unfitted-level-1) 1pt solid;\n",
       "}\n",
       "\n",
       "#sk-container-id-1 a.estimator_doc_link.fitted {\n",
       "  /* fitted */\n",
       "  border: var(--sklearn-color-fitted-level-1) 1pt solid;\n",
       "  color: var(--sklearn-color-fitted-level-1);\n",
       "}\n",
       "\n",
       "/* On hover */\n",
       "#sk-container-id-1 a.estimator_doc_link:hover {\n",
       "  /* unfitted */\n",
       "  background-color: var(--sklearn-color-unfitted-level-3);\n",
       "  color: var(--sklearn-color-background);\n",
       "  text-decoration: none;\n",
       "}\n",
       "\n",
       "#sk-container-id-1 a.estimator_doc_link.fitted:hover {\n",
       "  /* fitted */\n",
       "  background-color: var(--sklearn-color-fitted-level-3);\n",
       "}\n",
       "</style><div id=\"sk-container-id-1\" class=\"sk-top-container\"><div class=\"sk-text-repr-fallback\"><pre>RandomForestRegressor()</pre><b>In a Jupyter environment, please rerun this cell to show the HTML representation or trust the notebook. <br />On GitHub, the HTML representation is unable to render, please try loading this page with nbviewer.org.</b></div><div class=\"sk-container\" hidden><div class=\"sk-item\"><div class=\"sk-estimator fitted sk-toggleable\"><input class=\"sk-toggleable__control sk-hidden--visually\" id=\"sk-estimator-id-1\" type=\"checkbox\" checked><label for=\"sk-estimator-id-1\" class=\"sk-toggleable__label fitted sk-toggleable__label-arrow fitted\">&nbsp;&nbsp;RandomForestRegressor<a class=\"sk-estimator-doc-link fitted\" rel=\"noreferrer\" target=\"_blank\" href=\"https://scikit-learn.org/1.5/modules/generated/sklearn.ensemble.RandomForestRegressor.html\">?<span>Documentation for RandomForestRegressor</span></a><span class=\"sk-estimator-doc-link fitted\">i<span>Fitted</span></span></label><div class=\"sk-toggleable__content fitted\"><pre>RandomForestRegressor()</pre></div> </div></div></div></div>"
      ],
      "text/plain": [
       "RandomForestRegressor()"
      ]
     },
     "execution_count": 28,
     "metadata": {},
     "output_type": "execute_result"
    }
   ],
   "source": [
    "from sklearn.ensemble import RandomForestRegressor\n",
    "from sklearn.model_selection import train_test_split\n",
    "\n",
    "X_train, X_test, y_train, y_test = train_test_split(df_scaled, labels, test_size=0.2, random_state=42)\n",
    "\n",
    "model = RandomForestRegressor()\n",
    "model.fit(X_train, y_train)"
   ]
  },
  {
   "cell_type": "code",
   "execution_count": 29,
   "metadata": {
    "colab": {
     "base_uri": "https://localhost:8080/"
    },
    "id": "BhjnApzJ5GD3",
    "outputId": "12093e09-38af-46bf-a063-ba4108ebae6d"
   },
   "outputs": [
    {
     "name": "stdout",
     "output_type": "stream",
     "text": [
      "RMSE: 0.6436610150849199\n",
      "Standard Deviation of y_test: 2.1460294839781464\n"
     ]
    }
   ],
   "source": [
    "from sklearn.metrics import mean_squared_error\n",
    "\n",
    "y_pred = model.predict(X_test)\n",
    "rmse = np.sqrt(mean_squared_error(y_test, y_pred))\n",
    "print(f\"RMSE: {rmse}\")\n",
    "\n",
    "std_y_test = np.std(y_test)\n",
    "print(f\"Standard Deviation of y_test: {std_y_test}\")"
   ]
  },
  {
   "cell_type": "markdown",
   "metadata": {
    "id": "LnsXdYbh8ceO"
   },
   "source": [
    "The RMSE is significantly lower than the standard deviation, indicating that RMSE of the model is much lower than the variability of the target data, suggesting good predictive ability."
   ]
  },
  {
   "cell_type": "markdown",
   "metadata": {
    "id": "kESW-Pem5zPX"
   },
   "source": [
    "## Ex6.III Prepare data for test  and test model\n",
    "\n",
    "\n",
    "1. Download file from : https://github.com/rdkit/rdkit/blob/master/Docs/Book/data/solubility.test.sdf\n",
    "\n",
    "2. Read molecules from this file and store them in a list named **list_molecule_test**.\n",
    "\n",
    "\n",
    "3. Take a molecule from the **list_molecule_test** and then calculate its descriptions thank to the **calculate_descriptors(mol)** function that you've coded above.\n",
    "\n",
    "\n",
    "4. Apply **minmaxscaler** to these descriptors. Note that **minmaxscaler**  is one that you've created at Ex6.II.\n",
    "\n",
    "\n",
    "5. Use the model that you've trained to predict the aqueous solubility (logS) of the molecule. Compare to the real logS value of the molecule.\n",
    "\n",
    "6. (Optional) Calculate the mean square root error of the model for this dataset.\n",
    "\n",
    "\n",
    "\n",
    "Note: If there exists problem of reading the file solubility.test.sdf as\n",
    "\"RDKit ERROR: [09:28:36] ERROR: moving to the beginning of the next molecule\n",
    "RDKit ERROR: [09:32:48] ERROR: Counts line too short: '' on line4\"\n",
    "so, go to the url, click \"raw\" and save this file by hand. The error will be gone away\n"
   ]
  },
  {
   "cell_type": "code",
   "execution_count": 30,
   "metadata": {
    "colab": {
     "base_uri": "https://localhost:8080/",
     "height": 284
    },
    "id": "MP5c1a3S9JBK",
    "outputId": "12f34552-b223-40f4-d686-dbe7e48ea9d1"
   },
   "outputs": [
    {
     "data": {
      "image/png": "[encoded data removed]",
      "text/html": [
       "<table><tr><td colspan=\"2\" style=\"text-align: center;\"><image src=\"data:image/png;base64,iVBORw0KGgoAAAANSUhEUgAAAcIAAACWCAIAAADCEh9HAAAABmJLR0QA/wD/AP+gvaeTAAAPX0lEQVR4nO3ce0xT9//H8U+RlosKQjYJKGZymeCFaapuE+MVZ4ygDqNRN/z9NVwW5+ItBCuwTOaMZrMTtyhuWdDFqHjhMtQNZepM5iRehmyJuqHIZItOBVGklPb8/jgL4aso2E9pD/T5+KvQ03Pepy0vzjnvz/noFEURAABHebm7AADo3ohRAJBCjAKAFGIUAKQQowAghRjtNqqrq81mc2FhobsLQdcqLCw0m83V1dXuLgSdpWPAk/ZZrdbU1NSdO3fa7XYhRHR0dEFBwdChQ91dF5zsypUrc+fOraysFELodLp58+bt2rXLYDC4uy50gBjVurKysqSkpMbGRiGEwWBobm4WQuh0ulmzZu3evdvf39/dBcIJGhsbFy1aVFRUpP49tn7Q/v7+xcXFU6ZMcXeBeBZO6rWrpqZm8eLFCQkJjY2NvXr1Sk1NffTo0Q8//BAaGqooSmFhYVxcXH5+vrvLhKxjx46NHj26sLBQUZTg4OCCggKLxbJ27Vq9Xt/Y2Dh16tSkpKSqqip3l4mnU6A9Dx8+zMrK8vX1FUL4+/ubTKZ79+61XeDjjz8eNGiQ+gkmJCRcunTJXaVCxuXLlxMTE9XPMSwsLCsrq+2z9fX1mzZt6tu3rxDCYDAsW7asvr7eTZXiWYhRbbHb7fv27VMjUr06dv369XaXbG5u3r59+wsvvCCE8Pb2Tk1NvX37tourhcPu3buXlpbm4+MjhOjXr9+GDRuampraXfLmzZupqaleXl5CiNDQ0O3bt9tsNhdXi2cjRjWkvLx83Lhx6rHJ6NGjT58+3eFL7ty5s2zZsl69egkhgoODzWZzS0uLC0qFw2w2W15eXv/+/YUQXl5eKSkp//zzT4evKi8vj4+PV78bRqOxM98NuAwxqgmSRxy///779OnT1b+x2NjYI0eOdF2pkPHjjz++8sor6ic1ceLEixcvdv61nT9TgYsRo25msVjMZrNTrn8VFRVFRESof6KJiYl//vmnc0uFjBs3bqSkpKifzsCBA/Py8ux2uwPreey6eVZWVmNjo9OrxXMhRt3J6cGnhnJAQABNCe14MvgePXokuU41lHU6nWQowymIUfd47DT86NGjTlw5TQmNePI0vLq62onrf+wSwYULF5y4cnQeMepqLmsK0ZRwLwcahg5wrGEF5yJGXaftECW9Xu+CIUo0Jdyi7dlAWFiYC84GOj98Cl2BGHWR0tLSYcOGuWXAPE0Jl3Fiw9ABbQfzR0dH79u3z2Wb9nDEaJfTyJe7pqaGpkSXKioqGjx4sNtHSrjxH7bHIka7kAZPtU6cOEFTwum6tGHoANdfPvJwxGiX0PKFf7W2kJAQDdbW7Wj5LjIt19bDEKPO1y2GobQ9Uu7Tp09WVpbbj5S7l+bmZrPZ3K9fP40f8WntSLlHIkadqdsNir5y5cq8efPcft2223ns+mNlZaW7K+oAd7h1KWLUObp1N5ymROc91jAsLi52d0Wd5d5RBD0bMSqrZ4zNZNq9DmmwYegA7nDrCsSolB52pxBNiXZpuWHoGNfcYeU5iFEH9eD/6ky711bbhuGkSZOea2o7LesZZ1EaQYw+Nw+5xkRTwllT22lZV8w+5YGI0efjUeHisdPueVq4dLsRJlpDjHaWx46/68GXL57U1VPbaVm3GO+sTcRox2i8KD2umdYuGi89r5nmGsTos3Bvcls9uCnh+qnttKxnDO1yJWL0qRiU3q5ufaPBkzykYegAjcxM1i0Qo+3gC9ShnjHtnkamttMyDiY6gxj9H5zOPJfuO+2exzYMHcClrQ4Ro/9h+jjHdLv3jYahY3jfnoEYVRSGekjrFtPudZep7bSMo/h2eXqMMvDYibQ87V63m9pOyzzqJpTO8NwY7WEdZ+3QWlOi+05tp2WMcGjLE2O0B49/1AiNTLtHw7CrMd5W5XEx6gl342iEG5sS3I3jStz95UEx6lH3hmuH66fd66lT22mZJ89FoHhUjKqTnvn6+qanpzc0NLi7HM/imqaEJ0xtp2UNDQ3p6elqvyElJcXd5biOB8Xo9evXFyxYUFVV5e5CPFSXTrvnaVPbaVlVVdWCBQs8qt/gQTEKLXD6pRUPP52EFhCjcANnNfpobkALiFG4h+SwM4baQDuIUbiTAzdBMPAbWkOMwv06P+0eU9tBg4hRaMWJEydGjhz5tAlimBQDmkWMQkPanXaPKdqgcTpFUQSgJXV1dR999NHWrVutVmufPn2EEA8ePNDr9UuXLs3MzFRnugO0gxiFRl29etVkMpWUlAghxo0bZzabWyeOAjSFGIWmqX0nvqXQMi93FwAA3RsxCgBSiFEAkEKMAoAUYhQApBCjACCFGAUAKcQoAEghRgFACjEKAFKIUQCQQowCgBRiFACkEKMAIIUYBQApxCgASCFGAUAKMQoAUohRAJBCjAKAFGIUAKQQowAghRgFACnEKABIIUYBQAoxCgBSiFEAkEKMAoAUYhQApBCjACCFGAUAKcQoAEghRgFACjEKAFKIUQCQQowCgBRiFACkEKMAIIUYBQApxCgASCFGAUAKMQoAUohRAJBCjAKAFGIUAKQQowAghRgFACnEKABIIUYBQAoxCgBSiFEAkEKMAoAUYhQApBCjACCFGAUAKcQoAEghRgFACjEKAFKIUQCQQowCgBRiFACkEKMAIIUYBQApxCgASCFGAUAKMQoAUohRAJBCjAKAFGIUAKQQowAghRgFACnEKABIIUYBQAoxCiGEqKur27dvX15eXkVFhQs2V1hY2Ldv384smZWVNXbs2Pnz53d1SYDDiFGIsrKyqKio7du35+fnv/rqqytWrOiKrRQVFW3btu15X/Xhhx+OHTvWiWXY7faZM2c6cYWAt7sLgPsVFRXl5uYmJycLIQ4dOpScnJyWlhYSEuLcrZSXlz98+NC563TArVu3SktL3V0FehRiFMJsNrc+DgwM1Ol0Vqv1ycUaGxtnz569ZcuW9evXX758eeTIkRs3bvzmm2/y8/P9/PyWL1+emJgohFAUZceOHQcOHGhqaho/fnxmZqaPj8/8+fPPnDmj0+kuXbo0YcKEuLg4IcSpU6c+//zz2traGTNmZGRk6HS6tWvXvvjiix988IG6xU2bNun1+tYCNm/eHBgYePny5Z9++mngwIHp6emjRo0SQtjt9pycnO+++66lpWXy5Mlr1qzx9vaeMWNGdnb2119/feHChcjIyI0bN4aFhX377bdffvllS0vLtGnThBD5+fn//vvvli1bzp8/r9PpJkyYYDKZ/P39zWZzcHDwnTt3jhw5YrVaV6xYkZSUpO5abm7uwYMH2+5aF34w6C4UQFEURTl37tyuXbuGDBmycuXKdheor68XQgwbNqykpOTkyZORkZHh4eFpaWnl5eXr1q3z8/O7deuWoijZ2dnh4eHFxcVlZWUREREZGRmKopw8efK1116bO3duaWlpRUVFQUGBl5fXnDlzTp06VVRU1Lt37/z8fEVRtm3bFhYWZrPZFEVpaWkJCQkpKSlZunTpvHnzFEV55513vL29s7Ozz549m5aW5u/vf+PGDUVRVq1aFR0dffTo0e+//z4sLOyzzz5TFMVgMMTGxubn5585cyY+Pl5dQ1VV1fr16729vUtLS0tLSy0Wy6VLlzZv3vzzzz+XlZVFR0ebTCZFUZYsWeLv77969erWXbt9+7aiKOvWrVN37fjx4xEREZmZmS75ZKB1xCj+s3Dhwri4uJCQkAMHDiiKcuXKlf9rw2w2qzF66tQpdfnVq1fHx8erjy0Wi06nO3HihKIowcHBOTk5d+/evXv37vr166OiotRlEhMTly9frj4uKCjw8/OzWq3qjwkJCWlpaYqi3L1718fH5+TJk4qiHDt2LDg42GKxtI3RN954o7Xg2NjY7Ozs5uZmHx+fnTt3qltMS0sbM2aMoigGg+HgwYPqkrm5uREREerjw4cP6/X6dt+BjIyMyZMnK4qyZMmSpKSkdndt69atrbsWHR0t+6ajR+CkHv/ZvXu3EKK4uHjOnDm//fZbQEDAiBEjWp996aWX1Aetp7G+vr6tZ9wGg8HLy6upqUmNGJPJlJmZ+djyj+nVq5e3t3frqiwWixAiKCho+vTpe/bsmTBhwt69e+fPn28wGNq+KigoqPVxTExMdXV1TU2NxWJ5//33Wy8F9O/f/7FN+/j4qOt/0r1799LT048cOVJfX9/c3Ny6y35+fm13zWKxqLu2Zs2ajIyM1rLbXSc8DTGK/zFz5kwvL6/y8vKUlJSVK1e2fer+/fsdvrxv377e3t4HDx6cOnWqYwUsWrRo6dKln376aUFBwf79+5+x5N9//x0XF6cG6/Hjx41GowObe/fdd+vq6s6cORMaGvrJJ58UFBQ8bUl11w4dOjRlyhQHNoQejAFPECtWrCgpKVEfHz58uKWlJSYmxrFV6fX6SZMm7dixw263CyHsdntdXZ36VEBAwO3btztcw+zZs61Wa3p6ul6vHz9+/NMWO378+NmzZ6dNmxYUFGQ0GnNzcxVFEULYbDb14sPTBAYGtrS0tFZVWVk5Y8aM0NBQm83266+/PnvXJk6c2O6uwcMRoxCjRo1auHBhZGSk0Wh88803TSbTmDFjHF7bF198UVFRERsbO23atEGDBuXk5Ki/X7x48f79+19//fX33nvvGS/39fWdM2dOTk7OwoULvbwe/36WlJTEx8ePHz9+1qxZGzZsiI+PF0J89dVXpaWlw4cPT0hICA8Pz8vLe8b6jUbjyJEjjUbjiBEjbt26tXjx4qysrOTk5Li4uIaGhg537eLFi0/uGjycTv0fDg/X0NDwyy+/NDU1jRo1asCAAe0uY7PZLl68GBMT07t3byFEbW3tgwcPXn75ZfXZ8+fPR0VFBQQECCGsVmtlZWVdXV10dPTAgQNb11BbW1tdXR0XF2e1Wq9du6YOVxJC/PHHHz4+PuHh4eqPf/31V1RU1OnTp0ePHq3+aLVaBw8enJqaWltbazKZbDbb8OHD+/Xr17pmi8VSWVnZ0NAwZMiQ0NBQtZ7IyMjAwEAhxJ07d27evKmOshJCNDc3nzt3bsCAAYMGDRJCVFRUXLt2zWg0BgUF1dTUxMTE3Lhxo6WlJSIiovO7Bk9GjEJzCgsLV61adfXq1cd+n5qaev/+/T179rilKuBpOKmH5uzdu/ett95ydxVAZ9Gph+YMHTr07bfffvL3ycnJTxu3BLgRJ/UAIIWTegCQQowCgBRiFACkEKMAIIUYBQApxCgASPl/azz+HCbOzM4AAACMelRYdHJka2l0UEtMIHJka2l0IDIwMjQuMDMuNQAAeJx7v2/tPQYgEABiRgYIYANiViBuYGRjSACJM0NoJiYIzYxDnJGZG2gGIxMDEzMDEwsDCyuDE8g48SAksxnYYnNb7exeSNqBOGlpy+wZGBzsIWw1B5giEHvWzJn7QexZMysdYGom8s9zgOkVAwCvyhbMFgaDNAAAAOR6VFh0TU9MIHJka2l0IDIwMjQuMDMuNQAAeJyFkc0KwjAMgO99irzASvorPbofRGQb6PTuYaCgw8Muvr3p3Ow2cSYtJOmXpklVdK/by/P2qJv23NQMvOzT3bWFj8iUURwXlnMOTgoRWQ7egDjbbAtIqnU8RJLyWFQHsGAog3RKrqsyHyICEkAuLVokjguDqjOwk5ApiRNc9VG+Mr0x5xRxklucHX9xesxFgstfoCFQcfe3sCVOc6ecXm4kK9LJAN4jicsiDSPxKkPn5IAKDQraOvThXRNeK2jbcbHx1d4f/ols9gLtdGZyZVg3XQAAAFx6VFh0U01JTEVTIHJka2l0IDIwMjQuMDMuNQAAeJw1i0kKwCAQBL+So8KkmUUNMsf+lo9XSHLqooomWVjJaxWFDx2isK4haYjDT5d0HPvObXDJwPxSw4zZ/k9dG4l8EBNNyuaoAAAAAElFTkSuQmCC\"></td></tr>\n",
       "<tr><th style=\"text-align: right\">ID</th><td style=\"text-align: left\">5</td></tr>\n",
       "<tr><th style=\"text-align: right\">NAME</th><td style=\"text-align: left\">3-methylpentane</td></tr>\n",
       "<tr><th style=\"text-align: right\">SOL</th><td style=\"text-align: left\">-3.68</td></tr>\n",
       "<tr><th style=\"text-align: right\">SMILES</th><td style=\"text-align: left\">CCC(C)CC</td></tr>\n",
       "<tr><th style=\"text-align: right\">SOL_classification</th><td style=\"text-align: left\">(A) low</td></tr></table>"
      ],
      "text/plain": [
       "<rdkit.Chem.rdchem.Mol at 0x7f8e946b29d0>"
      ]
     },
     "execution_count": 30,
     "metadata": {},
     "output_type": "execute_result"
    }
   ],
   "source": [
    "suppl_test = SDMolSupplier('data/solubility-test.sdf', removeHs=False)\n",
    "list_molecule_test = [mol for mol in suppl_test if mol is not None]\n",
    "list_molecule_test[0]"
   ]
  },
  {
   "cell_type": "code",
   "execution_count": 31,
   "metadata": {
    "colab": {
     "base_uri": "https://localhost:8080/"
    },
    "id": "QQq_mhpf9fRN",
    "outputId": "f857b999-8e1d-4ef1-d6b1-e56c827affc7"
   },
   "outputs": [
    {
     "name": "stderr",
     "output_type": "stream",
     "text": [
      "[11:32:20] DEPRECATION WARNING: please use MorganGenerator\n",
      "[11:32:20] DEPRECATION WARNING: please use MorganGenerator\n",
      "[11:32:20] DEPRECATION WARNING: please use MorganGenerator\n"
     ]
    }
   ],
   "source": [
    "mol_test = list_molecule_test[0]\n",
    "descriptors_test = calculate_descriptors(mol_test)"
   ]
  },
  {
   "cell_type": "code",
   "execution_count": 32,
   "metadata": {
    "colab": {
     "base_uri": "https://localhost:8080/",
     "height": 130
    },
    "id": "T4_38rBM-3em",
    "outputId": "03402dc5-ec19-4bde-91eb-ecf085f24d52"
   },
   "outputs": [
    {
     "data": {
      "application/vnd.google.colaboratory.intrinsic+json": {
       "type": "dataframe",
       "variable_name": "df_test"
      },
      "text/html": [
       "\n",
       "  <div id=\"df-75105491-35a8-4038-ac90-50c13e5527f0\" class=\"colab-df-container\">\n",
       "    <div>\n",
       "<style scoped>\n",
       "    .dataframe tbody tr th:only-of-type {\n",
       "        vertical-align: middle;\n",
       "    }\n",
       "\n",
       "    .dataframe tbody tr th {\n",
       "        vertical-align: top;\n",
       "    }\n",
       "\n",
       "    .dataframe thead th {\n",
       "        text-align: right;\n",
       "    }\n",
       "</style>\n",
       "<table border=\"1\" class=\"dataframe\">\n",
       "  <thead>\n",
       "    <tr style=\"text-align: right;\">\n",
       "      <th></th>\n",
       "      <th>MaxAbsEStateIndex</th>\n",
       "      <th>MaxEStateIndex</th>\n",
       "      <th>MinAbsEStateIndex</th>\n",
       "      <th>MinEStateIndex</th>\n",
       "      <th>qed</th>\n",
       "      <th>SPS</th>\n",
       "      <th>MolWt</th>\n",
       "      <th>HeavyAtomMolWt</th>\n",
       "      <th>ExactMolWt</th>\n",
       "      <th>NumValenceElectrons</th>\n",
       "      <th>...</th>\n",
       "      <th>fr_sulfide</th>\n",
       "      <th>fr_sulfonamd</th>\n",
       "      <th>fr_sulfone</th>\n",
       "      <th>fr_term_acetylene</th>\n",
       "      <th>fr_tetrazole</th>\n",
       "      <th>fr_thiazole</th>\n",
       "      <th>fr_thiocyan</th>\n",
       "      <th>fr_thiophene</th>\n",
       "      <th>fr_unbrch_alkane</th>\n",
       "      <th>fr_urea</th>\n",
       "    </tr>\n",
       "  </thead>\n",
       "  <tbody>\n",
       "    <tr>\n",
       "      <th>0</th>\n",
       "      <td>2.277778</td>\n",
       "      <td>2.277778</td>\n",
       "      <td>0.935185</td>\n",
       "      <td>0.935185</td>\n",
       "      <td>0.48389</td>\n",
       "      <td>10.0</td>\n",
       "      <td>86.178</td>\n",
       "      <td>72.066</td>\n",
       "      <td>86.10955</td>\n",
       "      <td>38</td>\n",
       "      <td>...</td>\n",
       "      <td>0</td>\n",
       "      <td>0</td>\n",
       "      <td>0</td>\n",
       "      <td>0</td>\n",
       "      <td>0</td>\n",
       "      <td>0</td>\n",
       "      <td>0</td>\n",
       "      <td>0</td>\n",
       "      <td>0</td>\n",
       "      <td>0</td>\n",
       "    </tr>\n",
       "  </tbody>\n",
       "</table>\n",
       "<p>1 rows × 210 columns</p>\n",
       "</div>\n",
       "    <div class=\"colab-df-buttons\">\n",
       "\n",
       "  <div class=\"colab-df-container\">\n",
       "    <button class=\"colab-df-convert\" onclick=\"convertToInteractive('df-75105491-35a8-4038-ac90-50c13e5527f0')\"\n",
       "            title=\"Convert this dataframe to an interactive table.\"\n",
       "            style=\"display:none;\">\n",
       "\n",
       "  <svg xmlns=\"http://www.w3.org/2000/svg\" height=\"24px\" viewBox=\"0 -960 960 960\">\n",
       "    <path d=\"M120-120v-720h720v720H120Zm60-500h600v-160H180v160Zm220 220h160v-160H400v160Zm0 220h160v-160H400v160ZM180-400h160v-160H180v160Zm440 0h160v-160H620v160ZM180-180h160v-160H180v160Zm440 0h160v-160H620v160Z\"/>\n",
       "  </svg>\n",
       "    </button>\n",
       "\n",
       "  <style>\n",
       "    .colab-df-container {\n",
       "      display:flex;\n",
       "      gap: 12px;\n",
       "    }\n",
       "\n",
       "    .colab-df-convert {\n",
       "      background-color: #E8F0FE;\n",
       "      border: none;\n",
       "      border-radius: 50%;\n",
       "      cursor: pointer;\n",
       "      display: none;\n",
       "      fill: #1967D2;\n",
       "      height: 32px;\n",
       "      padding: 0 0 0 0;\n",
       "      width: 32px;\n",
       "    }\n",
       "\n",
       "    .colab-df-convert:hover {\n",
       "      background-color: #E2EBFA;\n",
       "      box-shadow: 0px 1px 2px rgba(60, 64, 67, 0.3), 0px 1px 3px 1px rgba(60, 64, 67, 0.15);\n",
       "      fill: #174EA6;\n",
       "    }\n",
       "\n",
       "    .colab-df-buttons div {\n",
       "      margin-bottom: 4px;\n",
       "    }\n",
       "\n",
       "    [theme=dark] .colab-df-convert {\n",
       "      background-color: #3B4455;\n",
       "      fill: #D2E3FC;\n",
       "    }\n",
       "\n",
       "    [theme=dark] .colab-df-convert:hover {\n",
       "      background-color: #434B5C;\n",
       "      box-shadow: 0px 1px 3px 1px rgba(0, 0, 0, 0.15);\n",
       "      filter: drop-shadow(0px 1px 2px rgba(0, 0, 0, 0.3));\n",
       "      fill: #FFFFFF;\n",
       "    }\n",
       "  </style>\n",
       "\n",
       "    <script>\n",
       "      const buttonEl =\n",
       "        document.querySelector('#df-75105491-35a8-4038-ac90-50c13e5527f0 button.colab-df-convert');\n",
       "      buttonEl.style.display =\n",
       "        google.colab.kernel.accessAllowed ? 'block' : 'none';\n",
       "\n",
       "      async function convertToInteractive(key) {\n",
       "        const element = document.querySelector('#df-75105491-35a8-4038-ac90-50c13e5527f0');\n",
       "        const dataTable =\n",
       "          await google.colab.kernel.invokeFunction('convertToInteractive',\n",
       "                                                    [key], {});\n",
       "        if (!dataTable) return;\n",
       "\n",
       "        const docLinkHtml = 'Like what you see? Visit the ' +\n",
       "          '<a target=\"_blank\" href=https://colab.research.google.com/notebooks/data_table.ipynb>data table notebook</a>'\n",
       "          + ' to learn more about interactive tables.';\n",
       "        element.innerHTML = '';\n",
       "        dataTable['output_type'] = 'display_data';\n",
       "        await google.colab.output.renderOutput(dataTable, element);\n",
       "        const docLink = document.createElement('div');\n",
       "        docLink.innerHTML = docLinkHtml;\n",
       "        element.appendChild(docLink);\n",
       "      }\n",
       "    </script>\n",
       "  </div>\n",
       "\n",
       "\n",
       "    </div>\n",
       "  </div>\n"
      ],
      "text/plain": [
       "   MaxAbsEStateIndex  MaxEStateIndex  MinAbsEStateIndex  MinEStateIndex  \\\n",
       "0           2.277778        2.277778           0.935185        0.935185   \n",
       "\n",
       "       qed   SPS   MolWt  HeavyAtomMolWt  ExactMolWt  NumValenceElectrons  \\\n",
       "0  0.48389  10.0  86.178          72.066    86.10955                   38   \n",
       "\n",
       "   ...  fr_sulfide  fr_sulfonamd  fr_sulfone  fr_term_acetylene  fr_tetrazole  \\\n",
       "0  ...           0             0           0                  0             0   \n",
       "\n",
       "   fr_thiazole  fr_thiocyan  fr_thiophene  fr_unbrch_alkane  fr_urea  \n",
       "0            0            0             0                 0        0  \n",
       "\n",
       "[1 rows x 210 columns]"
      ]
     },
     "execution_count": 32,
     "metadata": {},
     "output_type": "execute_result"
    }
   ],
   "source": [
    "df_test = pd.DataFrame([descriptors_test], columns=descriptors_names)\n",
    "\n",
    "df_test.head()"
   ]
  },
  {
   "cell_type": "code",
   "execution_count": 35,
   "metadata": {
    "colab": {
     "base_uri": "https://localhost:8080/",
     "height": 130
    },
    "id": "U7EJ1OQuC5Za",
    "outputId": "79af3805-6830-4684-d782-31e1f862a9c4"
   },
   "outputs": [
    {
     "data": {
      "application/vnd.google.colaboratory.intrinsic+json": {
       "type": "dataframe",
       "variable_name": "df_scaled_test"
      },
      "text/html": [
       "\n",
       "  <div id=\"df-ae5f7c40-df51-4a21-9db0-a94b3d094e5b\" class=\"colab-df-container\">\n",
       "    <div>\n",
       "<style scoped>\n",
       "    .dataframe tbody tr th:only-of-type {\n",
       "        vertical-align: middle;\n",
       "    }\n",
       "\n",
       "    .dataframe tbody tr th {\n",
       "        vertical-align: top;\n",
       "    }\n",
       "\n",
       "    .dataframe thead th {\n",
       "        text-align: right;\n",
       "    }\n",
       "</style>\n",
       "<table border=\"1\" class=\"dataframe\">\n",
       "  <thead>\n",
       "    <tr style=\"text-align: right;\">\n",
       "      <th></th>\n",
       "      <th>MaxAbsEStateIndex</th>\n",
       "      <th>MaxEStateIndex</th>\n",
       "      <th>MinAbsEStateIndex</th>\n",
       "      <th>MinEStateIndex</th>\n",
       "      <th>qed</th>\n",
       "      <th>SPS</th>\n",
       "      <th>MolWt</th>\n",
       "      <th>HeavyAtomMolWt</th>\n",
       "      <th>ExactMolWt</th>\n",
       "      <th>NumValenceElectrons</th>\n",
       "      <th>...</th>\n",
       "      <th>fr_sulfide</th>\n",
       "      <th>fr_sulfonamd</th>\n",
       "      <th>fr_sulfone</th>\n",
       "      <th>fr_term_acetylene</th>\n",
       "      <th>fr_tetrazole</th>\n",
       "      <th>fr_thiazole</th>\n",
       "      <th>fr_thiocyan</th>\n",
       "      <th>fr_thiophene</th>\n",
       "      <th>fr_unbrch_alkane</th>\n",
       "      <th>fr_urea</th>\n",
       "    </tr>\n",
       "  </thead>\n",
       "  <tbody>\n",
       "    <tr>\n",
       "      <th>0</th>\n",
       "      <td>0.049345</td>\n",
       "      <td>0.049345</td>\n",
       "      <td>0.246402</td>\n",
       "      <td>0.859397</td>\n",
       "      <td>0.420664</td>\n",
       "      <td>0.110008</td>\n",
       "      <td>0.064721</td>\n",
       "      <td>0.053504</td>\n",
       "      <td>0.064685</td>\n",
       "      <td>0.096774</td>\n",
       "      <td>...</td>\n",
       "      <td>0.0</td>\n",
       "      <td>0.0</td>\n",
       "      <td>0.0</td>\n",
       "      <td>0.0</td>\n",
       "      <td>0.0</td>\n",
       "      <td>0.0</td>\n",
       "      <td>0.0</td>\n",
       "      <td>0.0</td>\n",
       "      <td>0.0</td>\n",
       "      <td>0.0</td>\n",
       "    </tr>\n",
       "  </tbody>\n",
       "</table>\n",
       "<p>1 rows × 210 columns</p>\n",
       "</div>\n",
       "    <div class=\"colab-df-buttons\">\n",
       "\n",
       "  <div class=\"colab-df-container\">\n",
       "    <button class=\"colab-df-convert\" onclick=\"convertToInteractive('df-ae5f7c40-df51-4a21-9db0-a94b3d094e5b')\"\n",
       "            title=\"Convert this dataframe to an interactive table.\"\n",
       "            style=\"display:none;\">\n",
       "\n",
       "  <svg xmlns=\"http://www.w3.org/2000/svg\" height=\"24px\" viewBox=\"0 -960 960 960\">\n",
       "    <path d=\"M120-120v-720h720v720H120Zm60-500h600v-160H180v160Zm220 220h160v-160H400v160Zm0 220h160v-160H400v160ZM180-400h160v-160H180v160Zm440 0h160v-160H620v160ZM180-180h160v-160H180v160Zm440 0h160v-160H620v160Z\"/>\n",
       "  </svg>\n",
       "    </button>\n",
       "\n",
       "  <style>\n",
       "    .colab-df-container {\n",
       "      display:flex;\n",
       "      gap: 12px;\n",
       "    }\n",
       "\n",
       "    .colab-df-convert {\n",
       "      background-color: #E8F0FE;\n",
       "      border: none;\n",
       "      border-radius: 50%;\n",
       "      cursor: pointer;\n",
       "      display: none;\n",
       "      fill: #1967D2;\n",
       "      height: 32px;\n",
       "      padding: 0 0 0 0;\n",
       "      width: 32px;\n",
       "    }\n",
       "\n",
       "    .colab-df-convert:hover {\n",
       "      background-color: #E2EBFA;\n",
       "      box-shadow: 0px 1px 2px rgba(60, 64, 67, 0.3), 0px 1px 3px 1px rgba(60, 64, 67, 0.15);\n",
       "      fill: #174EA6;\n",
       "    }\n",
       "\n",
       "    .colab-df-buttons div {\n",
       "      margin-bottom: 4px;\n",
       "    }\n",
       "\n",
       "    [theme=dark] .colab-df-convert {\n",
       "      background-color: #3B4455;\n",
       "      fill: #D2E3FC;\n",
       "    }\n",
       "\n",
       "    [theme=dark] .colab-df-convert:hover {\n",
       "      background-color: #434B5C;\n",
       "      box-shadow: 0px 1px 3px 1px rgba(0, 0, 0, 0.15);\n",
       "      filter: drop-shadow(0px 1px 2px rgba(0, 0, 0, 0.3));\n",
       "      fill: #FFFFFF;\n",
       "    }\n",
       "  </style>\n",
       "\n",
       "    <script>\n",
       "      const buttonEl =\n",
       "        document.querySelector('#df-ae5f7c40-df51-4a21-9db0-a94b3d094e5b button.colab-df-convert');\n",
       "      buttonEl.style.display =\n",
       "        google.colab.kernel.accessAllowed ? 'block' : 'none';\n",
       "\n",
       "      async function convertToInteractive(key) {\n",
       "        const element = document.querySelector('#df-ae5f7c40-df51-4a21-9db0-a94b3d094e5b');\n",
       "        const dataTable =\n",
       "          await google.colab.kernel.invokeFunction('convertToInteractive',\n",
       "                                                    [key], {});\n",
       "        if (!dataTable) return;\n",
       "\n",
       "        const docLinkHtml = 'Like what you see? Visit the ' +\n",
       "          '<a target=\"_blank\" href=https://colab.research.google.com/notebooks/data_table.ipynb>data table notebook</a>'\n",
       "          + ' to learn more about interactive tables.';\n",
       "        element.innerHTML = '';\n",
       "        dataTable['output_type'] = 'display_data';\n",
       "        await google.colab.output.renderOutput(dataTable, element);\n",
       "        const docLink = document.createElement('div');\n",
       "        docLink.innerHTML = docLinkHtml;\n",
       "        element.appendChild(docLink);\n",
       "      }\n",
       "    </script>\n",
       "  </div>\n",
       "\n",
       "\n",
       "  <div id=\"id_0d907351-8a8a-4425-b529-87cbc55130fa\">\n",
       "    <style>\n",
       "      .colab-df-generate {\n",
       "        background-color: #E8F0FE;\n",
       "        border: none;\n",
       "        border-radius: 50%;\n",
       "        cursor: pointer;\n",
       "        display: none;\n",
       "        fill: #1967D2;\n",
       "        height: 32px;\n",
       "        padding: 0 0 0 0;\n",
       "        width: 32px;\n",
       "      }\n",
       "\n",
       "      .colab-df-generate:hover {\n",
       "        background-color: #E2EBFA;\n",
       "        box-shadow: 0px 1px 2px rgba(60, 64, 67, 0.3), 0px 1px 3px 1px rgba(60, 64, 67, 0.15);\n",
       "        fill: #174EA6;\n",
       "      }\n",
       "\n",
       "      [theme=dark] .colab-df-generate {\n",
       "        background-color: #3B4455;\n",
       "        fill: #D2E3FC;\n",
       "      }\n",
       "\n",
       "      [theme=dark] .colab-df-generate:hover {\n",
       "        background-color: #434B5C;\n",
       "        box-shadow: 0px 1px 3px 1px rgba(0, 0, 0, 0.15);\n",
       "        filter: drop-shadow(0px 1px 2px rgba(0, 0, 0, 0.3));\n",
       "        fill: #FFFFFF;\n",
       "      }\n",
       "    </style>\n",
       "    <button class=\"colab-df-generate\" onclick=\"generateWithVariable('df_scaled_test')\"\n",
       "            title=\"Generate code using this dataframe.\"\n",
       "            style=\"display:none;\">\n",
       "\n",
       "  <svg xmlns=\"http://www.w3.org/2000/svg\" height=\"24px\"viewBox=\"0 0 24 24\"\n",
       "       width=\"24px\">\n",
       "    <path d=\"M7,19H8.4L18.45,9,17,7.55,7,17.6ZM5,21V16.75L18.45,3.32a2,2,0,0,1,2.83,0l1.4,1.43a1.91,1.91,0,0,1,.58,1.4,1.91,1.91,0,0,1-.58,1.4L9.25,21ZM18.45,9,17,7.55Zm-12,3A5.31,5.31,0,0,0,4.9,8.1,5.31,5.31,0,0,0,1,6.5,5.31,5.31,0,0,0,4.9,4.9,5.31,5.31,0,0,0,6.5,1,5.31,5.31,0,0,0,8.1,4.9,5.31,5.31,0,0,0,12,6.5,5.46,5.46,0,0,0,6.5,12Z\"/>\n",
       "  </svg>\n",
       "    </button>\n",
       "    <script>\n",
       "      (() => {\n",
       "      const buttonEl =\n",
       "        document.querySelector('#id_0d907351-8a8a-4425-b529-87cbc55130fa button.colab-df-generate');\n",
       "      buttonEl.style.display =\n",
       "        google.colab.kernel.accessAllowed ? 'block' : 'none';\n",
       "\n",
       "      buttonEl.onclick = () => {\n",
       "        google.colab.notebook.generateWithVariable('df_scaled_test');\n",
       "      }\n",
       "      })();\n",
       "    </script>\n",
       "  </div>\n",
       "\n",
       "    </div>\n",
       "  </div>\n"
      ],
      "text/plain": [
       "   MaxAbsEStateIndex  MaxEStateIndex  MinAbsEStateIndex  MinEStateIndex  \\\n",
       "0           0.049345        0.049345           0.246402        0.859397   \n",
       "\n",
       "        qed       SPS     MolWt  HeavyAtomMolWt  ExactMolWt  \\\n",
       "0  0.420664  0.110008  0.064721        0.053504    0.064685   \n",
       "\n",
       "   NumValenceElectrons  ...  fr_sulfide  fr_sulfonamd  fr_sulfone  \\\n",
       "0             0.096774  ...         0.0           0.0         0.0   \n",
       "\n",
       "   fr_term_acetylene  fr_tetrazole  fr_thiazole  fr_thiocyan  fr_thiophene  \\\n",
       "0                0.0           0.0          0.0          0.0           0.0   \n",
       "\n",
       "   fr_unbrch_alkane  fr_urea  \n",
       "0               0.0      0.0  \n",
       "\n",
       "[1 rows x 210 columns]"
      ]
     },
     "execution_count": 35,
     "metadata": {},
     "output_type": "execute_result"
    }
   ],
   "source": [
    "scaled_descriptors_test = scaler.transform(df_test)\n",
    "df_scaled_test = pd.DataFrame(scaled_descriptors_test, columns=descriptors_names)\n",
    "\n",
    "df_scaled_test"
   ]
  },
  {
   "cell_type": "code",
   "execution_count": 36,
   "metadata": {
    "colab": {
     "base_uri": "https://localhost:8080/"
    },
    "id": "62DQ91FWI0kJ",
    "outputId": "30b11239-5432-4a1b-b201-2cda55e2ac2e"
   },
   "outputs": [
    {
     "name": "stdout",
     "output_type": "stream",
     "text": [
      "\n",
      "Results for test molecule:\n",
      "Predicted logS: -3.3005\n",
      "Actual logS: -3.6800\n",
      "Absolute difference: 0.3795\n"
     ]
    },
    {
     "name": "stderr",
     "output_type": "stream",
     "text": [
      "/usr/local/lib/python3.10/dist-packages/sklearn/base.py:493: UserWarning: X does not have valid feature names, but RandomForestRegressor was fitted with feature names\n",
      "  warnings.warn(\n"
     ]
    }
   ],
   "source": [
    "predicted_logs = model.predict(scaled_descriptors_test)[0]\n",
    "actual_logs = float(mol_test.GetProp('SOL'))\n",
    "\n",
    "print(f\"\\nResults for test molecule:\")\n",
    "print(f\"Predicted logS: {predicted_logs:.4f}\")\n",
    "print(f\"Actual logS: {actual_logs:.4f}\")\n",
    "print(f\"Absolute difference: {abs(predicted_logs - actual_logs):.4f}\")"
   ]
  }
 ],
 "metadata": {
  "colab": {
   "provenance": []
  },
  "kernelspec": {
   "display_name": "Python 3 (ipykernel)",
   "language": "python",
   "name": "python3"
  },
  "language_info": {
   "codemirror_mode": {
    "name": "ipython",
    "version": 3
   },
   "file_extension": ".py",
   "mimetype": "text/x-python",
   "name": "python",
   "nbconvert_exporter": "python",
   "pygments_lexer": "ipython3",
   "version": "3.10.12"
  }
 },
 "nbformat": 4,
 "nbformat_minor": 4
}
