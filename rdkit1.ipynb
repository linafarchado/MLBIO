{
 "cells": [
  {
   "cell_type": "markdown",
   "metadata": {},
   "source": [
    "### **Author** : Lina Farchado"
   ]
  },
  {
   "cell_type": "markdown",
   "metadata": {
    "cell_id": "16c54816-8eaa-4419-a3c6-0b518d48920d",
    "deepnote_cell_height": 133.60000610351562,
    "deepnote_cell_type": "markdown",
    "id": "I5zRwy5bwUwz"
   },
   "source": [
    "# Machine learning to predict molecule properties : solubility\n",
    "\n"
   ]
  },
  {
   "cell_type": "markdown",
   "metadata": {
    "cell_id": "00001-49762d77-783f-4373-acbd-16a323a21fb1",
    "deepnote_cell_height": 206,
    "deepnote_cell_type": "markdown",
    "id": "eVwVRfWjwUw3"
   },
   "source": [
    "Laurent Cetinsoy\n",
    "\n",
    "The solubility of molecules is an important property in many applications like for drug selection or for compound selection for battery designes (no link to health).\n",
    "\n",
    "Being able to predict the solubility of a molecule from its formula instead of having to make measuring experiment in an important aspect to enhanced fatester molecule discovery.\n",
    "\n",
    "In this notebook we will do basic solubility prediction with machine learning models and rdkit\n"
   ]
  },
  {
   "cell_type": "markdown",
   "metadata": {
    "cell_id": "00002-a8756790-b108-40d2-a92f-8b05e49e6c30",
    "deepnote_cell_height": 88.39999389648438,
    "deepnote_cell_type": "markdown",
    "id": "QAEEPr0RwUw4"
   },
   "source": [
    "Install the python rdkit package with pip or conda\n",
    "\n",
    "cf https://www.rdkit.org/docs/index.html\n",
    "\n",
    "References :\n",
    "\n",
    "- https://www.rdkit.org/docs/GettingStartedInPython.html\n",
    "- https://www.rdkit.org/docs/Cookbook.html\n",
    "\n"
   ]
  },
  {
   "cell_type": "code",
   "execution_count": 58,
   "metadata": {
    "colab": {
     "base_uri": "https://localhost:8080/"
    },
    "id": "FAGCqp2CJBPx",
    "outputId": "3de46b0d-0b26-40f2-dc22-3dd42b7d497e"
   },
   "outputs": [
    {
     "name": "stdout",
     "output_type": "stream",
     "text": [
      "Requirement already satisfied: rdkit in /usr/local/lib/python3.10/dist-packages (2024.3.5)\n",
      "Requirement already satisfied: numpy in /usr/local/lib/python3.10/dist-packages (from rdkit) (1.26.4)\n",
      "Requirement already satisfied: Pillow in /usr/local/lib/python3.10/dist-packages (from rdkit) (10.4.0)\n"
     ]
    }
   ],
   "source": [
    "pip install rdkit"
   ]
  },
  {
   "cell_type": "markdown",
   "metadata": {
    "cell_id": "00004-6254cb0b-9327-466e-ba64-cb12e70f4314",
    "deepnote_cell_height": 81.60000610351562,
    "deepnote_cell_type": "markdown",
    "id": "VIreJisSwUw5"
   },
   "source": [
    "# Atom and Molecule representations with Rdkit"
   ]
  },
  {
   "cell_type": "markdown",
   "metadata": {
    "cell_id": "00005-f0885d44-707b-458e-84a9-5807d29a3394",
    "deepnote_cell_height": 88.39999389648438,
    "deepnote_cell_type": "markdown",
    "id": "sRw7zxXlwUw5"
   },
   "source": [
    "Rdkit is a package allowing to work with molecule data and their representation. It is very useful to gather information about atom and molecules. Especially about their physical and chemical properties. In this notebook we will learn about them\n",
    "\n",
    "For basic manipulations, the main submodule is **Chem**\n",
    "\n"
   ]
  },
  {
   "cell_type": "markdown",
   "metadata": {
    "cell_id": "00006-b6601403-90a3-4561-bf59-2fed80399f86",
    "deepnote_cell_height": 100,
    "deepnote_cell_type": "markdown",
    "id": "TYs-WClCqSsy"
   },
   "source": [
    "### Smile representation\n",
    "\n",
    "Smile lets represent molecules with text strings.\n",
    "\n",
    "\n",
    "Like many representations in chemistry we do not represent hydrogene atoms, indeed we can deduce it from the rest of the data.\n",
    "\n",
    "\n",
    "The following code define the Smile Representation of a very simple molecule. We will try to find out more"
   ]
  },
  {
   "cell_type": "code",
   "execution_count": 59,
   "metadata": {
    "id": "xYwrD1UAwUw7"
   },
   "outputs": [],
   "source": [
    "smile_molecule = \"C\""
   ]
  },
  {
   "cell_type": "markdown",
   "metadata": {
    "id": "mWMD_Rt9wUw8"
   },
   "source": [
    "From the rdkit.Chem submodule, import MolFromSmiles\n",
    "\n",
    "Using MolFromSmiles, load smile_molecule into a rdkit molecule. Store it in a variable named first_mol"
   ]
  },
  {
   "cell_type": "code",
   "execution_count": 94,
   "metadata": {
    "id": "Ljv0Mw0DOjA1"
   },
   "outputs": [],
   "source": [
    "from rdkit.Chem import MolFromSmiles, Draw, AddHs, SDMolSupplier, Descriptors, AllChem, DataStructs\n",
    "from rdkit.ML.Descriptors.MoleculeDescriptors import MolecularDescriptorCalculator"
   ]
  },
  {
   "cell_type": "code",
   "execution_count": 61,
   "metadata": {
    "id": "quz8JZZmwUw9"
   },
   "outputs": [],
   "source": [
    "first_mol = MolFromSmiles(smile_molecule)"
   ]
  },
  {
   "cell_type": "markdown",
   "metadata": {
    "id": "Q69JLySAwUw-"
   },
   "source": [
    "display the type of first_mol"
   ]
  },
  {
   "cell_type": "code",
   "execution_count": 62,
   "metadata": {
    "colab": {
     "base_uri": "https://localhost:8080/"
    },
    "id": "aio0fTUAwUw-",
    "outputId": "c48241d7-38d6-4d12-e4a5-d20aecf8d1c9"
   },
   "outputs": [
    {
     "data": {
      "text/plain": [
       "rdkit.Chem.rdchem.Mol"
      ]
     },
     "execution_count": 62,
     "metadata": {},
     "output_type": "execute_result"
    }
   ],
   "source": [
    "type(first_mol)"
   ]
  },
  {
   "cell_type": "markdown",
   "metadata": {
    "id": "SsFWnN87wUw-"
   },
   "source": [
    "With the dir function, list the public methods of the object instance first_mol"
   ]
  },
  {
   "cell_type": "code",
   "execution_count": 63,
   "metadata": {
    "colab": {
     "base_uri": "https://localhost:8080/"
    },
    "id": "GXUSDbM7Mzc5",
    "outputId": "427176c5-53fa-4c58-c9d3-9d90b9aa92c4"
   },
   "outputs": [
    {
     "data": {
      "text/plain": [
       "['AddConformer',\n",
       " 'ClearComputedProps',\n",
       " 'ClearProp',\n",
       " 'Debug',\n",
       " 'GetAromaticAtoms',\n",
       " 'GetAtomWithIdx',\n",
       " 'GetAtoms',\n",
       " 'GetAtomsMatchingQuery',\n",
       " 'GetBondBetweenAtoms',\n",
       " 'GetBondWithIdx',\n",
       " 'GetBonds',\n",
       " 'GetBoolProp',\n",
       " 'GetConformer',\n",
       " 'GetConformers',\n",
       " 'GetDoubleProp',\n",
       " 'GetIntProp',\n",
       " 'GetNumAtoms',\n",
       " 'GetNumBonds',\n",
       " 'GetNumConformers',\n",
       " 'GetNumHeavyAtoms',\n",
       " 'GetProp',\n",
       " 'GetPropNames',\n",
       " 'GetPropsAsDict',\n",
       " 'GetRingInfo',\n",
       " 'GetStereoGroups',\n",
       " 'GetSubstructMatch',\n",
       " 'GetSubstructMatches',\n",
       " 'GetUnsignedProp',\n",
       " 'HasProp',\n",
       " 'HasQuery',\n",
       " 'HasSubstructMatch',\n",
       " 'NeedsUpdatePropertyCache',\n",
       " 'RemoveAllConformers',\n",
       " 'RemoveConformer',\n",
       " 'SetBoolProp',\n",
       " 'SetDoubleProp',\n",
       " 'SetIntProp',\n",
       " 'SetProp',\n",
       " 'SetUnsignedProp',\n",
       " 'ToBinary',\n",
       " 'UpdatePropertyCache',\n",
       " '__class__',\n",
       " '__copy__',\n",
       " '__deepcopy__',\n",
       " '__delattr__',\n",
       " '__dict__',\n",
       " '__dir__',\n",
       " '__doc__',\n",
       " '__eq__',\n",
       " '__format__',\n",
       " '__ge__',\n",
       " '__getattribute__',\n",
       " '__getinitargs__',\n",
       " '__getstate__',\n",
       " '__getstate_manages_dict__',\n",
       " '__gt__',\n",
       " '__hash__',\n",
       " '__init__',\n",
       " '__init_subclass__',\n",
       " '__instance_size__',\n",
       " '__le__',\n",
       " '__lt__',\n",
       " '__module__',\n",
       " '__ne__',\n",
       " '__new__',\n",
       " '__reduce__',\n",
       " '__reduce_ex__',\n",
       " '__repr__',\n",
       " '__safe_for_unpickling__',\n",
       " '__setattr__',\n",
       " '__setstate__',\n",
       " '__sizeof__',\n",
       " '__str__',\n",
       " '__subclasshook__',\n",
       " '__weakref__']"
      ]
     },
     "execution_count": 63,
     "metadata": {},
     "output_type": "execute_result"
    }
   ],
   "source": [
    "dir(first_mol)"
   ]
  },
  {
   "cell_type": "markdown",
   "metadata": {
    "id": "mKzPYxSrwUw_"
   },
   "source": [
    "Among all the methods, you should have found a method allowing you to get the number of atoms.\n",
    "Call it and store the result in a variable n_atoms and display it"
   ]
  },
  {
   "cell_type": "code",
   "execution_count": 64,
   "metadata": {
    "colab": {
     "base_uri": "https://localhost:8080/"
    },
    "id": "i4e8EC88wUxA",
    "outputId": "6cff12f1-f387-4cae-d201-fd80ab809512"
   },
   "outputs": [
    {
     "data": {
      "text/plain": [
       "1"
      ]
     },
     "execution_count": 64,
     "metadata": {},
     "output_type": "execute_result"
    }
   ],
   "source": [
    "first_mol.GetNumAtoms()"
   ]
  },
  {
   "cell_type": "markdown",
   "metadata": {
    "id": "Eq0S7eWxySa3"
   },
   "source": [
    "Using Draw from rdkit.Chem module, draw the moldule"
   ]
  },
  {
   "cell_type": "code",
   "execution_count": 65,
   "metadata": {
    "colab": {
     "base_uri": "https://localhost:8080/",
     "height": 317
    },
    "id": "tEifCJ1P0K_S",
    "outputId": "f689ca39-45d8-4659-c4bd-fb511b739dcf"
   },
   "outputs": [
    {
     "data": {
      "image/jpeg": "[encoded data removed]",
      "image/png": "[encoded data removed]",
      "text/plain": [
       "<PIL.PngImagePlugin.PngImageFile image mode=RGB size=300x300>"
      ]
     },
     "execution_count": 65,
     "metadata": {},
     "output_type": "execute_result"
    }
   ],
   "source": [
    "Draw.MolToImage(first_mol)"
   ]
  },
  {
   "cell_type": "markdown",
   "metadata": {
    "id": "tTIX9YumwUxA"
   },
   "source": [
    "Do you see a contradiction between the MolToImage and GetNumOfAtoms ? Can you explain why below\n"
   ]
  },
  {
   "cell_type": "markdown",
   "metadata": {
    "id": "vLZ0kRf7yfK9"
   },
   "source": [
    "- There is a contradiction because RdKit automatically adds implicit hydrogens to the molecule\n",
    "- the visualization takes into account the typical valency and adds implicit hydrogens to complete the molecule structure.\n"
   ]
  },
  {
   "cell_type": "markdown",
   "metadata": {
    "id": "jGAKND9ywUxA"
   },
   "source": [
    "We will tell rdkit to clone the molecule but to add the hydrogen atoms now.\n",
    "Create a new molecule from first_mol using the method AddHs.\n",
    "Store it in a variable named mol2"
   ]
  },
  {
   "cell_type": "code",
   "execution_count": 66,
   "metadata": {
    "id": "QuVNxAAP0HcJ"
   },
   "outputs": [],
   "source": [
    "mol2 = AddHs(first_mol)"
   ]
  },
  {
   "cell_type": "markdown",
   "metadata": {
    "id": "iIkqXXahwUxB"
   },
   "source": [
    "Display the number of Atoms now"
   ]
  },
  {
   "cell_type": "code",
   "execution_count": 67,
   "metadata": {
    "colab": {
     "base_uri": "https://localhost:8080/"
    },
    "id": "do7LMiPPwUxB",
    "outputId": "72f9bb2b-b6d7-40fb-857a-90e621e7c450"
   },
   "outputs": [
    {
     "data": {
      "text/plain": [
       "5"
      ]
     },
     "execution_count": 67,
     "metadata": {},
     "output_type": "execute_result"
    }
   ],
   "source": [
    "mol2.GetNumAtoms()"
   ]
  },
  {
   "cell_type": "markdown",
   "metadata": {
    "id": "a2ygBaWawUxC"
   },
   "source": [
    "Display the number of Heavy Atoms (check the methods from dir output)"
   ]
  },
  {
   "cell_type": "code",
   "execution_count": 68,
   "metadata": {
    "colab": {
     "base_uri": "https://localhost:8080/"
    },
    "id": "v0phEP3DwUxC",
    "outputId": "bdd82c80-532a-40b3-dc63-6cffd33e43ef"
   },
   "outputs": [
    {
     "data": {
      "text/plain": [
       "1"
      ]
     },
     "execution_count": 68,
     "metadata": {},
     "output_type": "execute_result"
    }
   ],
   "source": [
    "mol2.GetNumHeavyAtoms()"
   ]
  },
  {
   "cell_type": "markdown",
   "metadata": {
    "id": "r4EdaB3fwUxC"
   },
   "source": [
    "Is it coherent ?"
   ]
  },
  {
   "cell_type": "markdown",
   "metadata": {
    "id": "8l9FE-MDwUxC"
   },
   "source": [
    "Yes, since there is only C as a heavy atom and 4 H."
   ]
  },
  {
   "cell_type": "markdown",
   "metadata": {
    "id": "b1QtJcCgwUxC"
   },
   "source": [
    "With the MolToImage function of the Draw package, display the molecule mol2."
   ]
  },
  {
   "cell_type": "code",
   "execution_count": 69,
   "metadata": {
    "colab": {
     "base_uri": "https://localhost:8080/",
     "height": 317
    },
    "id": "6AcuA18TwUxD",
    "outputId": "d8da1c4a-3514-4d37-ca64-1e9f3a86d89d"
   },
   "outputs": [
    {
     "data": {
      "image/jpeg": "[encoded data removed]",
      "image/png": "[encoded data removed]",
      "text/plain": [
       "<PIL.PngImagePlugin.PngImageFile image mode=RGB size=300x300>"
      ]
     },
     "execution_count": 69,
     "metadata": {},
     "output_type": "execute_result"
    }
   ],
   "source": [
    "Draw.MolToImage(mol2)"
   ]
  },
  {
   "cell_type": "markdown",
   "metadata": {
    "id": "7uGe3cvywUxD"
   },
   "source": [
    "Let's look at a real molecule now.\n",
    "\n",
    "The following string contains the SMILE representation of the paracetamol molecule"
   ]
  },
  {
   "cell_type": "code",
   "execution_count": 70,
   "metadata": {
    "cell_id": "00008-dd610cb0-5abd-406c-a330-2da2d53262a0",
    "deepnote_cell_height": 65.60000610351562,
    "deepnote_cell_type": "code",
    "id": "IwfByzFGwUxD"
   },
   "outputs": [],
   "source": [
    "smile = 'CC(=O)NC1=CC=C(O)C=C1'"
   ]
  },
  {
   "cell_type": "markdown",
   "metadata": {
    "cell_id": "00011-9c66cae2-261b-4ec9-8a7c-e799d7083289",
    "deepnote_cell_height": 52,
    "deepnote_cell_type": "markdown",
    "id": "Nrse6TRswUxD"
   },
   "source": [
    "Using the MolFromSmiles function, create a molecule from the smile representation and print its types"
   ]
  },
  {
   "cell_type": "code",
   "execution_count": 71,
   "metadata": {
    "cell_id": "00012-a5674a89-c239-4173-8f98-778b289a388e",
    "colab": {
     "base_uri": "https://localhost:8080/"
    },
    "deepnote_cell_height": 80.60000610351562,
    "deepnote_cell_type": "code",
    "deepnote_to_be_reexecuted": false,
    "execution_millis": 86,
    "execution_start": 1649748771633,
    "id": "ccbbFmLOqDJV",
    "outputId": "ad6e908c-4bfc-47e0-a4c3-9af79a2c5418",
    "source_hash": "38de17fb"
   },
   "outputs": [
    {
     "name": "stdout",
     "output_type": "stream",
     "text": [
      "<class 'rdkit.Chem.rdchem.Mol'>\n"
     ]
    }
   ],
   "source": [
    "paracetamol = MolFromSmiles(smile)\n",
    "print(type(paracetamol))"
   ]
  },
  {
   "cell_type": "markdown",
   "metadata": {
    "cell_id": "00013-96d3ed92-ebee-47ef-b52a-d522509ef206",
    "deepnote_cell_height": 52,
    "deepnote_cell_type": "markdown",
    "id": "3ajzmQ05wUxE"
   },
   "source": [
    "With the MolToImage function of the Draw package, display the molecule"
   ]
  },
  {
   "cell_type": "code",
   "execution_count": 72,
   "metadata": {
    "cell_id": "00014-605ea8c4-c77d-42b1-b28e-8dea04bfadbc",
    "colab": {
     "base_uri": "https://localhost:8080/",
     "height": 317
    },
    "deepnote_cell_height": 65.60000610351562,
    "deepnote_cell_type": "code",
    "id": "8snxocdqsKNJ",
    "outputId": "39c148d5-f1b9-4d3e-8834-9a7207d73a37"
   },
   "outputs": [
    {
     "data": {
      "image/jpeg": "[encoded data removed]",
      "image/png": "[encoded data removed]",
      "text/plain": [
       "<PIL.PngImagePlugin.PngImageFile image mode=RGB size=300x300>"
      ]
     },
     "execution_count": 72,
     "metadata": {},
     "output_type": "execute_result"
    }
   ],
   "source": [
    "Draw.MolToImage(paracetamol)"
   ]
  },
  {
   "cell_type": "markdown",
   "metadata": {
    "cell_id": "00015-5cd6b93d-1f02-43ef-9f8e-04a39cc705cc",
    "deepnote_cell_height": 88.39999389648438,
    "deepnote_cell_type": "markdown",
    "id": "OMTaiXrjwUxE"
   },
   "source": [
    "You can get the Number of atoms of the molecules and the list of atoms with the methods GetNumAtoms and GetAtoms.\n",
    "\n",
    "Print the number of atoms of the molecule"
   ]
  },
  {
   "cell_type": "code",
   "execution_count": 73,
   "metadata": {
    "cell_id": "00016-50fde15d-059b-461e-9630-03f8c4e574ad",
    "colab": {
     "base_uri": "https://localhost:8080/"
    },
    "deepnote_cell_height": 65.60000610351562,
    "deepnote_cell_type": "code",
    "id": "3yiWFSgdsk0j",
    "outputId": "d10f289b-496d-4f32-f827-fd47447843e2"
   },
   "outputs": [
    {
     "data": {
      "text/plain": [
       "11"
      ]
     },
     "execution_count": 73,
     "metadata": {},
     "output_type": "execute_result"
    }
   ],
   "source": [
    "paracetamol.GetNumAtoms()"
   ]
  },
  {
   "cell_type": "code",
   "execution_count": 74,
   "metadata": {
    "colab": {
     "base_uri": "https://localhost:8080/"
    },
    "id": "wjiEMd3HP0T-",
    "outputId": "dba01720-372b-4375-8555-7d779b0bc6da"
   },
   "outputs": [
    {
     "data": {
      "text/plain": [
       "<rdkit.Chem._GetAtomsIterator at 0x7a1e68253430>"
      ]
     },
     "execution_count": 74,
     "metadata": {},
     "output_type": "execute_result"
    }
   ],
   "source": [
    "paracetamol.GetAtoms()"
   ]
  },
  {
   "cell_type": "markdown",
   "metadata": {
    "cell_id": "00018-00e691ed-0a03-4cfa-8e5c-063263a98de9",
    "deepnote_cell_height": 74.39999389648438,
    "deepnote_cell_type": "markdown",
    "id": "YmYhOEP2wUxF"
   },
   "source": [
    "If you compare to the picture, you may see that the number of atoms is not 11. What is the total number and why rdkit do not give the same answer ?"
   ]
  },
  {
   "cell_type": "code",
   "execution_count": 75,
   "metadata": {
    "colab": {
     "base_uri": "https://localhost:8080/"
    },
    "id": "wlF9FNvYQbdg",
    "outputId": "24e2a549-b350-4f41-d215-0eb0046f2bc7"
   },
   "outputs": [
    {
     "data": {
      "text/plain": [
       "20"
      ]
     },
     "execution_count": 75,
     "metadata": {},
     "output_type": "execute_result"
    }
   ],
   "source": [
    "molecule_with_H = AddHs(paracetamol)\n",
    "molecule_with_H.GetNumAtoms()"
   ]
  },
  {
   "cell_type": "markdown",
   "metadata": {
    "cell_id": "00019-25619709-2bf7-4ff3-adf2-820f8c26a43c",
    "deepnote_cell_height": 45.600006103515625,
    "deepnote_cell_type": "markdown",
    "id": "kgqHGhvhwUxF"
   },
   "source": [
    "Because it does not take into account the hydrogens"
   ]
  },
  {
   "cell_type": "markdown",
   "metadata": {
    "cell_id": "00020-7277558b-490d-470a-8404-2192d96da77a",
    "deepnote_cell_height": 52,
    "deepnote_cell_type": "markdown",
    "id": "sek4D5_EwUxF"
   },
   "source": [
    "Print the list of each atoms"
   ]
  },
  {
   "cell_type": "code",
   "execution_count": 76,
   "metadata": {
    "colab": {
     "base_uri": "https://localhost:8080/"
    },
    "id": "nuRRUbTzR-Bz",
    "outputId": "124ee406-e1b1-4216-91c6-1c9e948d04d0"
   },
   "outputs": [
    {
     "data": {
      "text/plain": [
       "['C', 'C', 'O', 'N', 'C', 'C', 'C', 'C', 'O', 'C', 'C']"
      ]
     },
     "execution_count": 76,
     "metadata": {},
     "output_type": "execute_result"
    }
   ],
   "source": [
    "atoms = [atom.GetSymbol() for atom in paracetamol.GetAtoms()]\n",
    "atoms"
   ]
  },
  {
   "cell_type": "markdown",
   "metadata": {
    "cell_id": "00023-155b09a9-d08f-4e80-9eb2-c62d528851a6",
    "deepnote_cell_height": 52,
    "deepnote_cell_type": "markdown",
    "id": "GgicgMSEwUxF"
   },
   "source": [
    "Store the number of bonds of the molecule in **n_bond** (look which method can be used for that) and print"
   ]
  },
  {
   "cell_type": "code",
   "execution_count": 77,
   "metadata": {
    "cell_id": "00024-9fd1d703-47c3-4cc4-9aa9-8a0057f07178",
    "colab": {
     "base_uri": "https://localhost:8080/"
    },
    "deepnote_cell_height": 65.60000610351562,
    "deepnote_cell_type": "code",
    "id": "4BJGnXswtxFV",
    "outputId": "6e4c1277-e9e6-46a7-fb1c-d247797d74d8"
   },
   "outputs": [
    {
     "data": {
      "text/plain": [
       "11"
      ]
     },
     "execution_count": 77,
     "metadata": {},
     "output_type": "execute_result"
    }
   ],
   "source": [
    "n_bond = paracetamol.GetNumBonds()\n",
    "n_bond"
   ]
  },
  {
   "cell_type": "markdown",
   "metadata": {
    "cell_id": "00025-8b8879a3-8aae-4161-840d-0772c3665be5",
    "deepnote_cell_height": 52,
    "deepnote_cell_type": "markdown",
    "id": "8SG_3BXgwUxG"
   },
   "source": [
    "For each bond, print if the bond is single or double"
   ]
  },
  {
   "cell_type": "code",
   "execution_count": 78,
   "metadata": {
    "cell_id": "00026-ba0d2166-a420-4bb1-a1a5-8fb9247e0095",
    "colab": {
     "base_uri": "https://localhost:8080/"
    },
    "deepnote_cell_height": 65.60000610351562,
    "deepnote_cell_type": "code",
    "id": "KvVVVogjwUxG",
    "outputId": "e5b349b2-a67d-4e39-fcee-84ae3b1db640"
   },
   "outputs": [
    {
     "name": "stdout",
     "output_type": "stream",
     "text": [
      "SINGLE\n",
      "DOUBLE\n",
      "SINGLE\n",
      "SINGLE\n",
      "AROMATIC\n",
      "AROMATIC\n",
      "AROMATIC\n",
      "SINGLE\n",
      "AROMATIC\n",
      "AROMATIC\n",
      "AROMATIC\n"
     ]
    }
   ],
   "source": [
    "for bond in paracetamol.GetBonds():\n",
    "    print(bond.GetBondType())"
   ]
  },
  {
   "cell_type": "markdown",
   "metadata": {
    "cell_id": "00027-b5995ed8-e09c-4b80-bb8d-b2ca3ea687d6",
    "deepnote_cell_height": 195.1999969482422,
    "deepnote_cell_type": "markdown",
    "id": "5ch4vabFuReu"
   },
   "source": [
    "### Reading molecule data from file\n",
    "\n",
    "Apart SMILES, .SDF and .Mol are also the common formats to save molecules. RDKit provides also functionalities to read these files.\n",
    "\n",
    "\n",
    "Morphine is an opioid agonist used for the relief of moderate to severe acute and chronic pain. The chemical information of this drug can be found at\n",
    "https://go.drugbank.com/structures/small_molecule_drugs/DB00295.sdf\n",
    "\n",
    "\n",
    "Download this file and save it in a folder.\n",
    "\n"
   ]
  },
  {
   "cell_type": "markdown",
   "metadata": {
    "cell_id": "00028-05da9607-1920-4a7d-829f-a3f81d13ecec",
    "deepnote_cell_height": 45.600006103515625,
    "deepnote_cell_type": "markdown",
    "id": "gm_r_DJ_wUxG"
   },
   "source": []
  },
  {
   "cell_type": "markdown",
   "metadata": {
    "cell_id": "00029-1506f2e3-1057-4c79-9643-9cdb2c1d63dd",
    "deepnote_cell_height": 311.20001220703125,
    "deepnote_cell_type": "markdown",
    "id": "tkc4vU55wUxG"
   },
   "source": [
    "\n",
    "SDF files can contain one or more molecules. To load them, you can use SDMolSupplier. When you use it it will return you an object that looks like a list.\n",
    "\n",
    "Read the file that you've downloaded using \"rdkit.Chem.SDMolSupplier\" and get the first molecule (the only one) and  store it in a variable named **morphine**\n",
    "\n"
   ]
  },
  {
   "cell_type": "code",
   "execution_count": 79,
   "metadata": {
    "cell_id": "00030-3b0c6161-258d-4626-971a-1570bbbf42a8",
    "deepnote_cell_height": 65.60000610351562,
    "deepnote_cell_type": "code",
    "id": "CKgWFML8wUxH",
    "owner_user_id": "6493ea36-0370-4fcc-a539-2fe0671931ca"
   },
   "outputs": [],
   "source": [
    "chemical_info = SDMolSupplier(\"data/morphine.sdf\")\n",
    "morphine = chemical_info[0]"
   ]
  },
  {
   "cell_type": "markdown",
   "metadata": {
    "cell_id": "00031-112c817d-740a-4430-9185-28d4dac58306",
    "deepnote_cell_height": 52,
    "deepnote_cell_type": "markdown",
    "id": "Gi_atYXKwUxH"
   },
   "source": [
    "Display its type"
   ]
  },
  {
   "cell_type": "code",
   "execution_count": 80,
   "metadata": {
    "cell_id": "00032-4a15949d-949a-4501-9e8e-be0a6452502e",
    "colab": {
     "base_uri": "https://localhost:8080/"
    },
    "deepnote_cell_height": 65.60000610351562,
    "deepnote_cell_type": "code",
    "id": "jyF8QU4DwUxH",
    "outputId": "4a80673a-34a7-466c-8aaf-0ea563c64533"
   },
   "outputs": [
    {
     "data": {
      "text/plain": [
       "rdkit.Chem.rdchem.Mol"
      ]
     },
     "execution_count": 80,
     "metadata": {},
     "output_type": "execute_result"
    }
   ],
   "source": [
    "type(morphine)"
   ]
  },
  {
   "cell_type": "markdown",
   "metadata": {
    "cell_id": "00033-54c0e7ba-143f-43e7-902d-8d6ccd2c004d",
    "deepnote_cell_height": 52,
    "deepnote_cell_type": "markdown",
    "id": "u8jnQNRZwUxH"
   },
   "source": [
    "Display the picture of the molecule\n"
   ]
  },
  {
   "cell_type": "code",
   "execution_count": 81,
   "metadata": {
    "cell_id": "00034-29655988-df5c-43dd-b6d7-9ed1f1370a53",
    "colab": {
     "base_uri": "https://localhost:8080/",
     "height": 317
    },
    "deepnote_cell_height": 65.60000610351562,
    "deepnote_cell_type": "code",
    "id": "WWbhtTV2wUxH",
    "outputId": "56a70932-7f84-4338-8de7-a1b7da3dd441"
   },
   "outputs": [
    {
     "data": {
      "image/jpeg": "[encoded data removed]",
      "image/png": "[encoded data removed]",
      "text/plain": [
       "<PIL.PngImagePlugin.PngImageFile image mode=RGB size=300x300>"
      ]
     },
     "execution_count": 81,
     "metadata": {},
     "output_type": "execute_result"
    }
   ],
   "source": [
    "Draw.MolToImage(morphine)"
   ]
  },
  {
   "cell_type": "markdown",
   "metadata": {
    "cell_id": "00035-350e5687-2331-4394-8eb7-d38704dd6105",
    "deepnote_cell_height": 52,
    "deepnote_cell_type": "markdown",
    "id": "eZ04Xoy7wUxH"
   },
   "source": [
    "Display the number of atoms and the number of bonds"
   ]
  },
  {
   "cell_type": "code",
   "execution_count": 82,
   "metadata": {
    "cell_id": "00036-ec30068d-0462-4e43-ab3c-528747c4c761",
    "colab": {
     "base_uri": "https://localhost:8080/"
    },
    "deepnote_cell_height": 65.60000610351562,
    "deepnote_cell_type": "code",
    "id": "XFhGGAORwUxH",
    "outputId": "8faaf1ef-d718-4517-d489-1cf2eb8d1167"
   },
   "outputs": [
    {
     "data": {
      "text/plain": [
       "21"
      ]
     },
     "execution_count": 82,
     "metadata": {},
     "output_type": "execute_result"
    }
   ],
   "source": [
    "morphine.GetNumAtoms()"
   ]
  },
  {
   "cell_type": "code",
   "execution_count": 83,
   "metadata": {
    "colab": {
     "base_uri": "https://localhost:8080/"
    },
    "id": "tSP7EtadUV8P",
    "outputId": "ae07bb39-1533-4d53-bdd4-3d36e156c4e1"
   },
   "outputs": [
    {
     "data": {
      "text/plain": [
       "25"
      ]
     },
     "execution_count": 83,
     "metadata": {},
     "output_type": "execute_result"
    }
   ],
   "source": [
    "morphine.GetNumBonds()"
   ]
  },
  {
   "cell_type": "markdown",
   "metadata": {
    "cell_id": "00037-00f838fc-8945-4e34-a80a-1c405e4a213b",
    "deepnote_cell_height": 234.60000610351562,
    "deepnote_cell_type": "markdown",
    "id": "GZXsjZGw3ofC"
   },
   "source": [
    "### Descriptors\n",
    "\n",
    "\n",
    "Molecules are also described by a set of physiochemical descriptors like\n",
    "- the log partition coefficient,\n",
    "- the polar surface area ... that describe the molecule's structure.\n",
    "\n",
    "\n",
    "RDKit provides utilities that allow us to compute descriptor of molecules.\n",
    "\n",
    "The rdkit.Chem.Descriptors module and its sub module let us compute molecule descriptors."
   ]
  },
  {
   "cell_type": "markdown",
   "metadata": {
    "cell_id": "00038-6a0e9066-3a92-4f1d-bd54-4cb670006585",
    "deepnote_cell_height": 74.39999389648438,
    "deepnote_cell_type": "markdown",
    "id": "p4IMXCRJwUxI"
   },
   "source": [
    "the rdkit.Chem.Descriptors module has an attribute name \\_descList, display it. It contains a list of tuple. Each tuple has the name of the physical property, and function associated to it to compute the given property"
   ]
  },
  {
   "cell_type": "code",
   "execution_count": 87,
   "metadata": {
    "cell_id": "00039-f2d00766-465d-4fbc-812f-8de5909e082e",
    "colab": {
     "base_uri": "https://localhost:8080/"
    },
    "collapsed": true,
    "deepnote_cell_height": 65.60000610351562,
    "deepnote_cell_type": "code",
    "id": "A2TEGBucwUxI",
    "jupyter": {
     "outputs_hidden": true
    },
    "outputId": "9656ddfd-30d4-49dc-eb6f-9ed597c9f70e"
   },
   "outputs": [
    {
     "data": {
      "text/plain": [
       "[('MaxAbsEStateIndex',\n",
       "  <function rdkit.Chem.EState.EState.MaxAbsEStateIndex(mol, force=1)>),\n",
       " ('MaxEStateIndex',\n",
       "  <function rdkit.Chem.EState.EState.MaxEStateIndex(mol, force=1)>),\n",
       " ('MinAbsEStateIndex',\n",
       "  <function rdkit.Chem.EState.EState.MinAbsEStateIndex(mol, force=1)>),\n",
       " ('MinEStateIndex',\n",
       "  <function rdkit.Chem.EState.EState.MinEStateIndex(mol, force=1)>),\n",
       " ('qed',\n",
       "  <function rdkit.Chem.QED.qed(mol, w=QEDproperties(MW=0.66, ALOGP=0.46, HBA=0.05, HBD=0.61, PSA=0.06, ROTB=0.65, AROM=0.48, ALERTS=0.95), qedProperties=None)>),\n",
       " ('SPS', <function rdkit.Chem.SpacialScore.SPS(mol, normalize=True)>),\n",
       " ('MolWt', <function rdkit.Chem.Descriptors.<lambda>(*x, **y)>),\n",
       " ('HeavyAtomMolWt', <function rdkit.Chem.Descriptors.HeavyAtomMolWt(x)>),\n",
       " ('ExactMolWt', <function rdkit.Chem.Descriptors.<lambda>(*x, **y)>),\n",
       " ('NumValenceElectrons',\n",
       "  <function rdkit.Chem.Descriptors.NumValenceElectrons(mol)>),\n",
       " ('NumRadicalElectrons',\n",
       "  <function rdkit.Chem.Descriptors.NumRadicalElectrons(mol)>),\n",
       " ('MaxPartialCharge',\n",
       "  <function rdkit.Chem.Descriptors.MaxPartialCharge(mol, force=False)>),\n",
       " ('MinPartialCharge',\n",
       "  <function rdkit.Chem.Descriptors.MinPartialCharge(mol, force=False)>),\n",
       " ('MaxAbsPartialCharge',\n",
       "  <function rdkit.Chem.Descriptors.MaxAbsPartialCharge(mol, force=False)>),\n",
       " ('MinAbsPartialCharge',\n",
       "  <function rdkit.Chem.Descriptors.MinAbsPartialCharge(mol, force=False)>),\n",
       " ('FpDensityMorgan1', <function rdkit.Chem.Descriptors.FpDensityMorgan1(x)>),\n",
       " ('FpDensityMorgan2', <function rdkit.Chem.Descriptors.FpDensityMorgan2(x)>),\n",
       " ('FpDensityMorgan3', <function rdkit.Chem.Descriptors.FpDensityMorgan3(x)>),\n",
       " ('BCUT2D_MWHI',\n",
       "  <function rdkit.Chem.ChemUtils.DescriptorUtilities.BCUT2D_MWHI(mol, index=0)>),\n",
       " ('BCUT2D_MWLOW',\n",
       "  <function rdkit.Chem.ChemUtils.DescriptorUtilities.BCUT2D_MWLOW(mol, index=1)>),\n",
       " ('BCUT2D_CHGHI',\n",
       "  <function rdkit.Chem.ChemUtils.DescriptorUtilities.BCUT2D_CHGHI(mol, index=2)>),\n",
       " ('BCUT2D_CHGLO',\n",
       "  <function rdkit.Chem.ChemUtils.DescriptorUtilities.BCUT2D_CHGLO(mol, index=3)>),\n",
       " ('BCUT2D_LOGPHI',\n",
       "  <function rdkit.Chem.ChemUtils.DescriptorUtilities.BCUT2D_LOGPHI(mol, index=4)>),\n",
       " ('BCUT2D_LOGPLOW',\n",
       "  <function rdkit.Chem.ChemUtils.DescriptorUtilities.BCUT2D_LOGPLOW(mol, index=5)>),\n",
       " ('BCUT2D_MRHI',\n",
       "  <function rdkit.Chem.ChemUtils.DescriptorUtilities.BCUT2D_MRHI(mol, index=6)>),\n",
       " ('BCUT2D_MRLOW',\n",
       "  <function rdkit.Chem.ChemUtils.DescriptorUtilities.BCUT2D_MRLOW(mol, index=7)>),\n",
       " ('AvgIpc',\n",
       "  <function rdkit.Chem.GraphDescriptors.AvgIpc(mol, dMat=None, forceDMat=False)>),\n",
       " ('BalabanJ',\n",
       "  <function rdkit.Chem.GraphDescriptors.BalabanJ(mol, dMat=None, forceDMat=0)>),\n",
       " ('BertzCT',\n",
       "  <function rdkit.Chem.GraphDescriptors.BertzCT(mol, cutoff=100, dMat=None, forceDMat=1)>),\n",
       " ('Chi0', <function rdkit.Chem.GraphDescriptors.Chi0(mol)>),\n",
       " ('Chi0n', <function rdkit.Chem.GraphDescriptors.<lambda>(x)>),\n",
       " ('Chi0v', <function rdkit.Chem.GraphDescriptors.<lambda>(x)>),\n",
       " ('Chi1', <function rdkit.Chem.GraphDescriptors.Chi1(mol)>),\n",
       " ('Chi1n', <function rdkit.Chem.GraphDescriptors.<lambda>(x)>),\n",
       " ('Chi1v', <function rdkit.Chem.GraphDescriptors.<lambda>(x)>),\n",
       " ('Chi2n', <function rdkit.Chem.GraphDescriptors.<lambda>(x)>),\n",
       " ('Chi2v', <function rdkit.Chem.GraphDescriptors.<lambda>(x)>),\n",
       " ('Chi3n', <function rdkit.Chem.GraphDescriptors.<lambda>(x)>),\n",
       " ('Chi3v', <function rdkit.Chem.GraphDescriptors.<lambda>(x)>),\n",
       " ('Chi4n', <function rdkit.Chem.GraphDescriptors.<lambda>(x)>),\n",
       " ('Chi4v', <function rdkit.Chem.GraphDescriptors.<lambda>(x)>),\n",
       " ('HallKierAlpha', <function rdkit.Chem.GraphDescriptors.<lambda>(x)>),\n",
       " ('Ipc',\n",
       "  <function rdkit.Chem.GraphDescriptors.Ipc(mol, avg=False, dMat=None, forceDMat=False)>),\n",
       " ('Kappa1', <function rdkit.Chem.GraphDescriptors.<lambda>(x)>),\n",
       " ('Kappa2', <function rdkit.Chem.GraphDescriptors.<lambda>(x)>),\n",
       " ('Kappa3', <function rdkit.Chem.GraphDescriptors.<lambda>(x)>),\n",
       " ('LabuteASA', <function rdkit.Chem.MolSurf.<lambda>(*x, **y)>),\n",
       " ('PEOE_VSA1',\n",
       "  <function rdkit.Chem.MolSurf._InstallDescriptors.<locals>.<lambda>(x, y=0)>),\n",
       " ('PEOE_VSA10',\n",
       "  <function rdkit.Chem.MolSurf._InstallDescriptors.<locals>.<lambda>(x, y=9)>),\n",
       " ('PEOE_VSA11',\n",
       "  <function rdkit.Chem.MolSurf._InstallDescriptors.<locals>.<lambda>(x, y=10)>),\n",
       " ('PEOE_VSA12',\n",
       "  <function rdkit.Chem.MolSurf._InstallDescriptors.<locals>.<lambda>(x, y=11)>),\n",
       " ('PEOE_VSA13',\n",
       "  <function rdkit.Chem.MolSurf._InstallDescriptors.<locals>.<lambda>(x, y=12)>),\n",
       " ('PEOE_VSA14',\n",
       "  <function rdkit.Chem.MolSurf._InstallDescriptors.<locals>.<lambda>(x, y=13)>),\n",
       " ('PEOE_VSA2',\n",
       "  <function rdkit.Chem.MolSurf._InstallDescriptors.<locals>.<lambda>(x, y=1)>),\n",
       " ('PEOE_VSA3',\n",
       "  <function rdkit.Chem.MolSurf._InstallDescriptors.<locals>.<lambda>(x, y=2)>),\n",
       " ('PEOE_VSA4',\n",
       "  <function rdkit.Chem.MolSurf._InstallDescriptors.<locals>.<lambda>(x, y=3)>),\n",
       " ('PEOE_VSA5',\n",
       "  <function rdkit.Chem.MolSurf._InstallDescriptors.<locals>.<lambda>(x, y=4)>),\n",
       " ('PEOE_VSA6',\n",
       "  <function rdkit.Chem.MolSurf._InstallDescriptors.<locals>.<lambda>(x, y=5)>),\n",
       " ('PEOE_VSA7',\n",
       "  <function rdkit.Chem.MolSurf._InstallDescriptors.<locals>.<lambda>(x, y=6)>),\n",
       " ('PEOE_VSA8',\n",
       "  <function rdkit.Chem.MolSurf._InstallDescriptors.<locals>.<lambda>(x, y=7)>),\n",
       " ('PEOE_VSA9',\n",
       "  <function rdkit.Chem.MolSurf._InstallDescriptors.<locals>.<lambda>(x, y=8)>),\n",
       " ('SMR_VSA1',\n",
       "  <function rdkit.Chem.MolSurf._InstallDescriptors.<locals>.<lambda>(x, y=0)>),\n",
       " ('SMR_VSA10',\n",
       "  <function rdkit.Chem.MolSurf._InstallDescriptors.<locals>.<lambda>(x, y=9)>),\n",
       " ('SMR_VSA2',\n",
       "  <function rdkit.Chem.MolSurf._InstallDescriptors.<locals>.<lambda>(x, y=1)>),\n",
       " ('SMR_VSA3',\n",
       "  <function rdkit.Chem.MolSurf._InstallDescriptors.<locals>.<lambda>(x, y=2)>),\n",
       " ('SMR_VSA4',\n",
       "  <function rdkit.Chem.MolSurf._InstallDescriptors.<locals>.<lambda>(x, y=3)>),\n",
       " ('SMR_VSA5',\n",
       "  <function rdkit.Chem.MolSurf._InstallDescriptors.<locals>.<lambda>(x, y=4)>),\n",
       " ('SMR_VSA6',\n",
       "  <function rdkit.Chem.MolSurf._InstallDescriptors.<locals>.<lambda>(x, y=5)>),\n",
       " ('SMR_VSA7',\n",
       "  <function rdkit.Chem.MolSurf._InstallDescriptors.<locals>.<lambda>(x, y=6)>),\n",
       " ('SMR_VSA8',\n",
       "  <function rdkit.Chem.MolSurf._InstallDescriptors.<locals>.<lambda>(x, y=7)>),\n",
       " ('SMR_VSA9',\n",
       "  <function rdkit.Chem.MolSurf._InstallDescriptors.<locals>.<lambda>(x, y=8)>),\n",
       " ('SlogP_VSA1',\n",
       "  <function rdkit.Chem.MolSurf._InstallDescriptors.<locals>.<lambda>(x, y=0)>),\n",
       " ('SlogP_VSA10',\n",
       "  <function rdkit.Chem.MolSurf._InstallDescriptors.<locals>.<lambda>(x, y=9)>),\n",
       " ('SlogP_VSA11',\n",
       "  <function rdkit.Chem.MolSurf._InstallDescriptors.<locals>.<lambda>(x, y=10)>),\n",
       " ('SlogP_VSA12',\n",
       "  <function rdkit.Chem.MolSurf._InstallDescriptors.<locals>.<lambda>(x, y=11)>),\n",
       " ('SlogP_VSA2',\n",
       "  <function rdkit.Chem.MolSurf._InstallDescriptors.<locals>.<lambda>(x, y=1)>),\n",
       " ('SlogP_VSA3',\n",
       "  <function rdkit.Chem.MolSurf._InstallDescriptors.<locals>.<lambda>(x, y=2)>),\n",
       " ('SlogP_VSA4',\n",
       "  <function rdkit.Chem.MolSurf._InstallDescriptors.<locals>.<lambda>(x, y=3)>),\n",
       " ('SlogP_VSA5',\n",
       "  <function rdkit.Chem.MolSurf._InstallDescriptors.<locals>.<lambda>(x, y=4)>),\n",
       " ('SlogP_VSA6',\n",
       "  <function rdkit.Chem.MolSurf._InstallDescriptors.<locals>.<lambda>(x, y=5)>),\n",
       " ('SlogP_VSA7',\n",
       "  <function rdkit.Chem.MolSurf._InstallDescriptors.<locals>.<lambda>(x, y=6)>),\n",
       " ('SlogP_VSA8',\n",
       "  <function rdkit.Chem.MolSurf._InstallDescriptors.<locals>.<lambda>(x, y=7)>),\n",
       " ('SlogP_VSA9',\n",
       "  <function rdkit.Chem.MolSurf._InstallDescriptors.<locals>.<lambda>(x, y=8)>),\n",
       " ('TPSA', <function rdkit.Chem.MolSurf.<lambda>(*x, **y)>),\n",
       " ('EState_VSA1', <function rdkit.Chem.EState.EState_VSA.EState_VSA1(mol)>),\n",
       " ('EState_VSA10', <function rdkit.Chem.EState.EState_VSA.EState_VSA10(mol)>),\n",
       " ('EState_VSA11', <function rdkit.Chem.EState.EState_VSA.EState_VSA11(mol)>),\n",
       " ('EState_VSA2', <function rdkit.Chem.EState.EState_VSA.EState_VSA2(mol)>),\n",
       " ('EState_VSA3', <function rdkit.Chem.EState.EState_VSA.EState_VSA3(mol)>),\n",
       " ('EState_VSA4', <function rdkit.Chem.EState.EState_VSA.EState_VSA4(mol)>),\n",
       " ('EState_VSA5', <function rdkit.Chem.EState.EState_VSA.EState_VSA5(mol)>),\n",
       " ('EState_VSA6', <function rdkit.Chem.EState.EState_VSA.EState_VSA6(mol)>),\n",
       " ('EState_VSA7', <function rdkit.Chem.EState.EState_VSA.EState_VSA7(mol)>),\n",
       " ('EState_VSA8', <function rdkit.Chem.EState.EState_VSA.EState_VSA8(mol)>),\n",
       " ('EState_VSA9', <function rdkit.Chem.EState.EState_VSA.EState_VSA9(mol)>),\n",
       " ('VSA_EState1',\n",
       "  <function rdkit.Chem.EState.EState_VSA._descriptor_VSA_EState.<locals>.VSA_EState_bin(mol)>),\n",
       " ('VSA_EState10',\n",
       "  <function rdkit.Chem.EState.EState_VSA._descriptor_VSA_EState.<locals>.VSA_EState_bin(mol)>),\n",
       " ('VSA_EState2',\n",
       "  <function rdkit.Chem.EState.EState_VSA._descriptor_VSA_EState.<locals>.VSA_EState_bin(mol)>),\n",
       " ('VSA_EState3',\n",
       "  <function rdkit.Chem.EState.EState_VSA._descriptor_VSA_EState.<locals>.VSA_EState_bin(mol)>),\n",
       " ('VSA_EState4',\n",
       "  <function rdkit.Chem.EState.EState_VSA._descriptor_VSA_EState.<locals>.VSA_EState_bin(mol)>),\n",
       " ('VSA_EState5',\n",
       "  <function rdkit.Chem.EState.EState_VSA._descriptor_VSA_EState.<locals>.VSA_EState_bin(mol)>),\n",
       " ('VSA_EState6',\n",
       "  <function rdkit.Chem.EState.EState_VSA._descriptor_VSA_EState.<locals>.VSA_EState_bin(mol)>),\n",
       " ('VSA_EState7',\n",
       "  <function rdkit.Chem.EState.EState_VSA._descriptor_VSA_EState.<locals>.VSA_EState_bin(mol)>),\n",
       " ('VSA_EState8',\n",
       "  <function rdkit.Chem.EState.EState_VSA._descriptor_VSA_EState.<locals>.VSA_EState_bin(mol)>),\n",
       " ('VSA_EState9',\n",
       "  <function rdkit.Chem.EState.EState_VSA._descriptor_VSA_EState.<locals>.VSA_EState_bin(mol)>),\n",
       " ('FractionCSP3',\n",
       "  <function rdkit.Chem.Lipinski.<lambda>(x, y=<Boost.Python.function object at 0x585555d4d250>)>),\n",
       " ('HeavyAtomCount', <function rdkit.Chem.Lipinski.HeavyAtomCount(mol)>),\n",
       " ('NHOHCount', <function rdkit.Chem.Lipinski.<lambda>(x)>),\n",
       " ('NOCount', <function rdkit.Chem.Lipinski.<lambda>(x)>),\n",
       " ('NumAliphaticCarbocycles',\n",
       "  <function rdkit.Chem.Lipinski.<lambda>(x, y=<Boost.Python.function object at 0x585555d50330>)>),\n",
       " ('NumAliphaticHeterocycles',\n",
       "  <function rdkit.Chem.Lipinski.<lambda>(x, y=<Boost.Python.function object at 0x585555d9ad10>)>),\n",
       " ('NumAliphaticRings',\n",
       "  <function rdkit.Chem.Lipinski.<lambda>(x, y=<Boost.Python.function object at 0x585555d9aca0>)>),\n",
       " ('NumAromaticCarbocycles',\n",
       "  <function rdkit.Chem.Lipinski.<lambda>(x, y=<Boost.Python.function object at 0x585555d43d30>)>),\n",
       " ('NumAromaticHeterocycles',\n",
       "  <function rdkit.Chem.Lipinski.<lambda>(x, y=<Boost.Python.function object at 0x585555d43cc0>)>),\n",
       " ('NumAromaticRings',\n",
       "  <function rdkit.Chem.Lipinski.<lambda>(x, y=<Boost.Python.function object at 0x585555d9d7b0>)>),\n",
       " ('NumHAcceptors', <function rdkit.Chem.Lipinski.<lambda>(x)>),\n",
       " ('NumHDonors', <function rdkit.Chem.Lipinski.<lambda>(x)>),\n",
       " ('NumHeteroatoms', <function rdkit.Chem.Lipinski.<lambda>(x)>),\n",
       " ('NumRotatableBonds', <function rdkit.Chem.Lipinski.<lambda>(x)>),\n",
       " ('NumSaturatedCarbocycles',\n",
       "  <function rdkit.Chem.Lipinski.<lambda>(x, y=<Boost.Python.function object at 0x585555d9ac30>)>),\n",
       " ('NumSaturatedHeterocycles',\n",
       "  <function rdkit.Chem.Lipinski.<lambda>(x, y=<Boost.Python.function object at 0x585555d43da0>)>),\n",
       " ('NumSaturatedRings',\n",
       "  <function rdkit.Chem.Lipinski.<lambda>(x, y=<Boost.Python.function object at 0x585555d9d800>)>),\n",
       " ('RingCount', <function rdkit.Chem.Lipinski.<lambda>(x)>),\n",
       " ('MolLogP', <function rdkit.Chem.Crippen.<lambda>(*x, **y)>),\n",
       " ('MolMR', <function rdkit.Chem.Crippen.<lambda>(*x, **y)>),\n",
       " ('fr_Al_COO',\n",
       "  <function rdkit.Chem.Fragments._LoadPatterns.<locals>.<lambda>(mol, countUnique=True, pattern=<rdkit.Chem.rdchem.Mol object at 0x7a1e68405b60>)>),\n",
       " ('fr_Al_OH',\n",
       "  <function rdkit.Chem.Fragments._LoadPatterns.<locals>.<lambda>(mol, countUnique=True, pattern=<rdkit.Chem.rdchem.Mol object at 0x7a1e68405930>)>),\n",
       " ('fr_Al_OH_noTert',\n",
       "  <function rdkit.Chem.Fragments._LoadPatterns.<locals>.<lambda>(mol, countUnique=True, pattern=<rdkit.Chem.rdchem.Mol object at 0x7a1e68407a70>)>),\n",
       " ('fr_ArN',\n",
       "  <function rdkit.Chem.Fragments._LoadPatterns.<locals>.<lambda>(mol, countUnique=True, pattern=<rdkit.Chem.rdchem.Mol object at 0x7a1e68414040>)>),\n",
       " ('fr_Ar_COO',\n",
       "  <function rdkit.Chem.Fragments._LoadPatterns.<locals>.<lambda>(mol, countUnique=True, pattern=<rdkit.Chem.rdchem.Mol object at 0x7a1e68405bd0>)>),\n",
       " ('fr_Ar_N',\n",
       "  <function rdkit.Chem.Fragments._LoadPatterns.<locals>.<lambda>(mol, countUnique=True, pattern=<rdkit.Chem.rdchem.Mol object at 0x7a1e684060a0>)>),\n",
       " ('fr_Ar_NH',\n",
       "  <function rdkit.Chem.Fragments._LoadPatterns.<locals>.<lambda>(mol, countUnique=True, pattern=<rdkit.Chem.rdchem.Mol object at 0x7a1e68406110>)>),\n",
       " ('fr_Ar_OH',\n",
       "  <function rdkit.Chem.Fragments._LoadPatterns.<locals>.<lambda>(mol, countUnique=True, pattern=<rdkit.Chem.rdchem.Mol object at 0x7a1e684059a0>)>),\n",
       " ('fr_COO',\n",
       "  <function rdkit.Chem.Fragments._LoadPatterns.<locals>.<lambda>(mol, countUnique=True, pattern=<rdkit.Chem.rdchem.Mol object at 0x7a1e68405c40>)>),\n",
       " ('fr_COO2',\n",
       "  <function rdkit.Chem.Fragments._LoadPatterns.<locals>.<lambda>(mol, countUnique=True, pattern=<rdkit.Chem.rdchem.Mol object at 0x7a1e68405cb0>)>),\n",
       " ('fr_C_O',\n",
       "  <function rdkit.Chem.Fragments._LoadPatterns.<locals>.<lambda>(mol, countUnique=True, pattern=<rdkit.Chem.rdchem.Mol object at 0x7a1e684058c0>)>),\n",
       " ('fr_C_O_noCOO',\n",
       "  <function rdkit.Chem.Fragments._LoadPatterns.<locals>.<lambda>(mol, countUnique=True, pattern=<rdkit.Chem.rdchem.Mol object at 0x7a1e68405850>)>),\n",
       " ('fr_C_S',\n",
       "  <function rdkit.Chem.Fragments._LoadPatterns.<locals>.<lambda>(mol, countUnique=True, pattern=<rdkit.Chem.rdchem.Mol object at 0x7a1e68406c00>)>),\n",
       " ('fr_HOCCN',\n",
       "  <function rdkit.Chem.Fragments._LoadPatterns.<locals>.<lambda>(mol, countUnique=True, pattern=<rdkit.Chem.rdchem.Mol object at 0x7a1e68414120>)>),\n",
       " ('fr_Imine',\n",
       "  <function rdkit.Chem.Fragments._LoadPatterns.<locals>.<lambda>(mol, countUnique=True, pattern=<rdkit.Chem.rdchem.Mol object at 0x7a1e684061f0>)>),\n",
       " ('fr_NH0',\n",
       "  <function rdkit.Chem.Fragments._LoadPatterns.<locals>.<lambda>(mol, countUnique=True, pattern=<rdkit.Chem.rdchem.Mol object at 0x7a1e68406030>)>),\n",
       " ('fr_NH1',\n",
       "  <function rdkit.Chem.Fragments._LoadPatterns.<locals>.<lambda>(mol, countUnique=True, pattern=<rdkit.Chem.rdchem.Mol object at 0x7a1e68405fc0>)>),\n",
       " ('fr_NH2',\n",
       "  <function rdkit.Chem.Fragments._LoadPatterns.<locals>.<lambda>(mol, countUnique=True, pattern=<rdkit.Chem.rdchem.Mol object at 0x7a1e68405f50>)>),\n",
       " ('fr_N_O',\n",
       "  <function rdkit.Chem.Fragments._LoadPatterns.<locals>.<lambda>(mol, countUnique=True, pattern=<rdkit.Chem.rdchem.Mol object at 0x7a1e68406420>)>),\n",
       " ('fr_Ndealkylation1',\n",
       "  <function rdkit.Chem.Fragments._LoadPatterns.<locals>.<lambda>(mol, countUnique=True, pattern=<rdkit.Chem.rdchem.Mol object at 0x7a1e68407ca0>)>),\n",
       " ('fr_Ndealkylation2',\n",
       "  <function rdkit.Chem.Fragments._LoadPatterns.<locals>.<lambda>(mol, countUnique=True, pattern=<rdkit.Chem.rdchem.Mol object at 0x7a1e68407d10>)>),\n",
       " ('fr_Nhpyrrole',\n",
       "  <function rdkit.Chem.Fragments._LoadPatterns.<locals>.<lambda>(mol, countUnique=True, pattern=<rdkit.Chem.rdchem.Mol object at 0x7a1e68406810>)>),\n",
       " ('fr_SH',\n",
       "  <function rdkit.Chem.Fragments._LoadPatterns.<locals>.<lambda>(mol, countUnique=True, pattern=<rdkit.Chem.rdchem.Mol object at 0x7a1e68406b90>)>),\n",
       " ('fr_aldehyde',\n",
       "  <function rdkit.Chem.Fragments._LoadPatterns.<locals>.<lambda>(mol, countUnique=True, pattern=<rdkit.Chem.rdchem.Mol object at 0x7a1e68405e70>)>),\n",
       " ('fr_alkyl_carbamate',\n",
       "  <function rdkit.Chem.Fragments._LoadPatterns.<locals>.<lambda>(mol, countUnique=True, pattern=<rdkit.Chem.rdchem.Mol object at 0x7a1e68407e60>)>),\n",
       " ('fr_alkyl_halide',\n",
       "  <function rdkit.Chem.Fragments._LoadPatterns.<locals>.<lambda>(mol, countUnique=True, pattern=<rdkit.Chem.rdchem.Mol object at 0x7a1e68406ab0>)>),\n",
       " ('fr_allylic_oxid',\n",
       "  <function rdkit.Chem.Fragments._LoadPatterns.<locals>.<lambda>(mol, countUnique=True, pattern=<rdkit.Chem.rdchem.Mol object at 0x7a1e68407c30>)>),\n",
       " ('fr_amide',\n",
       "  <function rdkit.Chem.Fragments._LoadPatterns.<locals>.<lambda>(mol, countUnique=True, pattern=<rdkit.Chem.rdchem.Mol object at 0x7a1e684065e0>)>),\n",
       " ('fr_amidine',\n",
       "  <function rdkit.Chem.Fragments._LoadPatterns.<locals>.<lambda>(mol, countUnique=True, pattern=<rdkit.Chem.rdchem.Mol object at 0x7a1e68406730>)>),\n",
       " ('fr_aniline',\n",
       "  <function rdkit.Chem.Fragments._LoadPatterns.<locals>.<lambda>(mol, countUnique=True, pattern=<rdkit.Chem.rdchem.Mol object at 0x7a1e68406180>)>),\n",
       " ('fr_aryl_methyl',\n",
       "  <function rdkit.Chem.Fragments._LoadPatterns.<locals>.<lambda>(mol, countUnique=True, pattern=<rdkit.Chem.rdchem.Mol object at 0x7a1e68407b50>)>),\n",
       " ('fr_azide',\n",
       "  <function rdkit.Chem.Fragments._LoadPatterns.<locals>.<lambda>(mol, countUnique=True, pattern=<rdkit.Chem.rdchem.Mol object at 0x7a1e68406650>)>),\n",
       " ('fr_azo',\n",
       "  <function rdkit.Chem.Fragments._LoadPatterns.<locals>.<lambda>(mol, countUnique=True, pattern=<rdkit.Chem.rdchem.Mol object at 0x7a1e68406570>)>),\n",
       " ('fr_barbitur',\n",
       "  <function rdkit.Chem.Fragments._LoadPatterns.<locals>.<lambda>(mol, countUnique=True, pattern=<rdkit.Chem.rdchem.Mol object at 0x7a1e68406ce0>)>),\n",
       " ('fr_benzene',\n",
       "  <function rdkit.Chem.Fragments._LoadPatterns.<locals>.<lambda>(mol, countUnique=True, pattern=<rdkit.Chem.rdchem.Mol object at 0x7a1e684075a0>)>),\n",
       " ('fr_benzodiazepine',\n",
       "  <function rdkit.Chem.Fragments._LoadPatterns.<locals>.<lambda>(mol, countUnique=True, pattern=<rdkit.Chem.rdchem.Mol object at 0x7a1e68407920>)>),\n",
       " ('fr_bicyclic',\n",
       "  <function rdkit.Chem.Fragments._LoadPatterns.<locals>.<lambda>(mol, countUnique=True, pattern=<rdkit.Chem.rdchem.Mol object at 0x7a1e68407530>)>),\n",
       " ('fr_diazo',\n",
       "  <function rdkit.Chem.Fragments._LoadPatterns.<locals>.<lambda>(mol, countUnique=True, pattern=<rdkit.Chem.rdchem.Mol object at 0x7a1e68406500>)>),\n",
       " ('fr_dihydropyridine',\n",
       "  <function rdkit.Chem.Fragments._LoadPatterns.<locals>.<lambda>(mol, countUnique=True, pattern=<rdkit.Chem.rdchem.Mol object at 0x7a1e68407840>)>),\n",
       " ('fr_epoxide',\n",
       "  <function rdkit.Chem.Fragments._LoadPatterns.<locals>.<lambda>(mol, countUnique=True, pattern=<rdkit.Chem.rdchem.Mol object at 0x7a1e68407450>)>),\n",
       " ('fr_ester',\n",
       "  <function rdkit.Chem.Fragments._LoadPatterns.<locals>.<lambda>(mol, countUnique=True, pattern=<rdkit.Chem.rdchem.Mol object at 0x7a1e68405af0>)>),\n",
       " ('fr_ether',\n",
       "  <function rdkit.Chem.Fragments._LoadPatterns.<locals>.<lambda>(mol, countUnique=True, pattern=<rdkit.Chem.rdchem.Mol object at 0x7a1e68405d90>)>),\n",
       " ('fr_furan',\n",
       "  <function rdkit.Chem.Fragments._LoadPatterns.<locals>.<lambda>(mol, countUnique=True, pattern=<rdkit.Chem.rdchem.Mol object at 0x7a1e68406f80>)>),\n",
       " ('fr_guanido',\n",
       "  <function rdkit.Chem.Fragments._LoadPatterns.<locals>.<lambda>(mol, countUnique=True, pattern=<rdkit.Chem.rdchem.Mol object at 0x7a1e684067a0>)>),\n",
       " ('fr_halogen',\n",
       "  <function rdkit.Chem.Fragments._LoadPatterns.<locals>.<lambda>(mol, countUnique=True, pattern=<rdkit.Chem.rdchem.Mol object at 0x7a1e68406a40>)>),\n",
       " ('fr_hdrzine',\n",
       "  <function rdkit.Chem.Fragments._LoadPatterns.<locals>.<lambda>(mol, countUnique=True, pattern=<rdkit.Chem.rdchem.Mol object at 0x7a1e684062d0>)>),\n",
       " ('fr_hdrzone',\n",
       "  <function rdkit.Chem.Fragments._LoadPatterns.<locals>.<lambda>(mol, countUnique=True, pattern=<rdkit.Chem.rdchem.Mol object at 0x7a1e68406340>)>),\n",
       " ('fr_imidazole',\n",
       "  <function rdkit.Chem.Fragments._LoadPatterns.<locals>.<lambda>(mol, countUnique=True, pattern=<rdkit.Chem.rdchem.Mol object at 0x7a1e68406f10>)>),\n",
       " ('fr_imide',\n",
       "  <function rdkit.Chem.Fragments._LoadPatterns.<locals>.<lambda>(mol, countUnique=True, pattern=<rdkit.Chem.rdchem.Mol object at 0x7a1e68406880>)>),\n",
       " ('fr_isocyan',\n",
       "  <function rdkit.Chem.Fragments._LoadPatterns.<locals>.<lambda>(mol, countUnique=True, pattern=<rdkit.Chem.rdchem.Mol object at 0x7a1e684068f0>)>),\n",
       " ('fr_isothiocyan',\n",
       "  <function rdkit.Chem.Fragments._LoadPatterns.<locals>.<lambda>(mol, countUnique=True, pattern=<rdkit.Chem.rdchem.Mol object at 0x7a1e68406960>)>),\n",
       " ('fr_ketone',\n",
       "  <function rdkit.Chem.Fragments._LoadPatterns.<locals>.<lambda>(mol, countUnique=True, pattern=<rdkit.Chem.rdchem.Mol object at 0x7a1e68405d20>)>),\n",
       " ('fr_ketone_Topliss',\n",
       "  <function rdkit.Chem.Fragments._LoadPatterns.<locals>.<lambda>(mol, countUnique=True, pattern=<rdkit.Chem.rdchem.Mol object at 0x7a1e68407d80>)>),\n",
       " ('fr_lactam',\n",
       "  <function rdkit.Chem.Fragments._LoadPatterns.<locals>.<lambda>(mol, countUnique=True, pattern=<rdkit.Chem.rdchem.Mol object at 0x7a1e68407300>)>),\n",
       " ('fr_lactone',\n",
       "  <function rdkit.Chem.Fragments._LoadPatterns.<locals>.<lambda>(mol, countUnique=True, pattern=<rdkit.Chem.rdchem.Mol object at 0x7a1e68407370>)>),\n",
       " ('fr_methoxy',\n",
       "  <function rdkit.Chem.Fragments._LoadPatterns.<locals>.<lambda>(mol, countUnique=True, pattern=<rdkit.Chem.rdchem.Mol object at 0x7a1e68405a10>)>),\n",
       " ('fr_morpholine',\n",
       "  <function rdkit.Chem.Fragments._LoadPatterns.<locals>.<lambda>(mol, countUnique=True, pattern=<rdkit.Chem.rdchem.Mol object at 0x7a1e68407290>)>),\n",
       " ('fr_nitrile',\n",
       "  <function rdkit.Chem.Fragments._LoadPatterns.<locals>.<lambda>(mol, countUnique=True, pattern=<rdkit.Chem.rdchem.Mol object at 0x7a1e68406260>)>),\n",
       " ('fr_nitro',\n",
       "  <function rdkit.Chem.Fragments._LoadPatterns.<locals>.<lambda>(mol, countUnique=True, pattern=<rdkit.Chem.rdchem.Mol object at 0x7a1e68406490>)>),\n",
       " ('fr_nitro_arom',\n",
       "  <function rdkit.Chem.Fragments._LoadPatterns.<locals>.<lambda>(mol, countUnique=True, pattern=<rdkit.Chem.rdchem.Mol object at 0x7a1e68407760>)>),\n",
       " ('fr_nitro_arom_nonortho',\n",
       "  <function rdkit.Chem.Fragments._LoadPatterns.<locals>.<lambda>(mol, countUnique=True, pattern=<rdkit.Chem.rdchem.Mol object at 0x7a1e684078b0>)>),\n",
       " ('fr_nitroso',\n",
       "  <function rdkit.Chem.Fragments._LoadPatterns.<locals>.<lambda>(mol, countUnique=True, pattern=<rdkit.Chem.rdchem.Mol object at 0x7a1e684063b0>)>),\n",
       " ('fr_oxazole',\n",
       "  <function rdkit.Chem.Fragments._LoadPatterns.<locals>.<lambda>(mol, countUnique=True, pattern=<rdkit.Chem.rdchem.Mol object at 0x7a1e684070d0>)>),\n",
       " ('fr_oxime',\n",
       "  <function rdkit.Chem.Fragments._LoadPatterns.<locals>.<lambda>(mol, countUnique=True, pattern=<rdkit.Chem.rdchem.Mol object at 0x7a1e68405a80>)>),\n",
       " ('fr_para_hydroxylation',\n",
       "  <function rdkit.Chem.Fragments._LoadPatterns.<locals>.<lambda>(mol, countUnique=True, pattern=<rdkit.Chem.rdchem.Mol object at 0x7a1e68407ae0>)>),\n",
       " ('fr_phenol',\n",
       "  <function rdkit.Chem.Fragments._LoadPatterns.<locals>.<lambda>(mol, countUnique=True, pattern=<rdkit.Chem.rdchem.Mol object at 0x7a1e68405e00>)>),\n",
       " ('fr_phenol_noOrthoHbond',\n",
       "  <function rdkit.Chem.Fragments._LoadPatterns.<locals>.<lambda>(mol, countUnique=True, pattern=<rdkit.Chem.rdchem.Mol object at 0x7a1e684077d0>)>),\n",
       " ('fr_phos_acid',\n",
       "  <function rdkit.Chem.Fragments._LoadPatterns.<locals>.<lambda>(mol, countUnique=True, pattern=<rdkit.Chem.rdchem.Mol object at 0x7a1e68407610>)>),\n",
       " ('fr_phos_ester',\n",
       "  <function rdkit.Chem.Fragments._LoadPatterns.<locals>.<lambda>(mol, countUnique=True, pattern=<rdkit.Chem.rdchem.Mol object at 0x7a1e68407680>)>),\n",
       " ('fr_piperdine',\n",
       "  <function rdkit.Chem.Fragments._LoadPatterns.<locals>.<lambda>(mol, countUnique=True, pattern=<rdkit.Chem.rdchem.Mol object at 0x7a1e684071b0>)>),\n",
       " ('fr_piperzine',\n",
       "  <function rdkit.Chem.Fragments._LoadPatterns.<locals>.<lambda>(mol, countUnique=True, pattern=<rdkit.Chem.rdchem.Mol object at 0x7a1e68407220>)>),\n",
       " ('fr_priamide',\n",
       "  <function rdkit.Chem.Fragments._LoadPatterns.<locals>.<lambda>(mol, countUnique=True, pattern=<rdkit.Chem.rdchem.Mol object at 0x7a1e684066c0>)>),\n",
       " ('fr_prisulfonamd',\n",
       "  <function rdkit.Chem.Fragments._LoadPatterns.<locals>.<lambda>(mol, countUnique=True, pattern=<rdkit.Chem.rdchem.Mol object at 0x7a1e68406dc0>)>),\n",
       " ('fr_pyridine',\n",
       "  <function rdkit.Chem.Fragments._LoadPatterns.<locals>.<lambda>(mol, countUnique=True, pattern=<rdkit.Chem.rdchem.Mol object at 0x7a1e68407140>)>),\n",
       " ('fr_quatN',\n",
       "  <function rdkit.Chem.Fragments._LoadPatterns.<locals>.<lambda>(mol, countUnique=True, pattern=<rdkit.Chem.rdchem.Mol object at 0x7a1e68405ee0>)>),\n",
       " ('fr_sulfide',\n",
       "  <function rdkit.Chem.Fragments._LoadPatterns.<locals>.<lambda>(mol, countUnique=True, pattern=<rdkit.Chem.rdchem.Mol object at 0x7a1e68406b20>)>),\n",
       " ('fr_sulfonamd',\n",
       "  <function rdkit.Chem.Fragments._LoadPatterns.<locals>.<lambda>(mol, countUnique=True, pattern=<rdkit.Chem.rdchem.Mol object at 0x7a1e68406c70>)>),\n",
       " ('fr_sulfone',\n",
       "  <function rdkit.Chem.Fragments._LoadPatterns.<locals>.<lambda>(mol, countUnique=True, pattern=<rdkit.Chem.rdchem.Mol object at 0x7a1e68406d50>)>),\n",
       " ('fr_term_acetylene',\n",
       "  <function rdkit.Chem.Fragments._LoadPatterns.<locals>.<lambda>(mol, countUnique=True, pattern=<rdkit.Chem.rdchem.Mol object at 0x7a1e68406e30>)>),\n",
       " ('fr_tetrazole',\n",
       "  <function rdkit.Chem.Fragments._LoadPatterns.<locals>.<lambda>(mol, countUnique=True, pattern=<rdkit.Chem.rdchem.Mol object at 0x7a1e684073e0>)>),\n",
       " ('fr_thiazole',\n",
       "  <function rdkit.Chem.Fragments._LoadPatterns.<locals>.<lambda>(mol, countUnique=True, pattern=<rdkit.Chem.rdchem.Mol object at 0x7a1e68407060>)>),\n",
       " ('fr_thiocyan',\n",
       "  <function rdkit.Chem.Fragments._LoadPatterns.<locals>.<lambda>(mol, countUnique=True, pattern=<rdkit.Chem.rdchem.Mol object at 0x7a1e684069d0>)>),\n",
       " ('fr_thiophene',\n",
       "  <function rdkit.Chem.Fragments._LoadPatterns.<locals>.<lambda>(mol, countUnique=True, pattern=<rdkit.Chem.rdchem.Mol object at 0x7a1e68406ff0>)>),\n",
       " ('fr_unbrch_alkane',\n",
       "  <function rdkit.Chem.Fragments._LoadPatterns.<locals>.<lambda>(mol, countUnique=True, pattern=<rdkit.Chem.rdchem.Mol object at 0x7a1e684074c0>)>),\n",
       " ('fr_urea',\n",
       "  <function rdkit.Chem.Fragments._LoadPatterns.<locals>.<lambda>(mol, countUnique=True, pattern=<rdkit.Chem.rdchem.Mol object at 0x7a1e68406ea0>)>)]"
      ]
     },
     "execution_count": 87,
     "metadata": {},
     "output_type": "execute_result"
    }
   ],
   "source": [
    "Descriptors._descList"
   ]
  },
  {
   "cell_type": "markdown",
   "metadata": {
    "cell_id": "00040-d6748b2c-f940-45f6-9911-985577dd18b7",
    "deepnote_cell_height": 74.39999389648438,
    "deepnote_cell_type": "markdown",
    "id": "PmDGS-JGwUxI"
   },
   "source": [
    "Compute all descriptors in the _descList list of the paracetamol molecule using the MoleculeDescriptors.MolecularDescriptorCalculator class"
   ]
  },
  {
   "cell_type": "code",
   "execution_count": 88,
   "metadata": {
    "cell_id": "00041-4b4b6a98-ad3f-4f22-9452-35bc9570b17a",
    "colab": {
     "base_uri": "https://localhost:8080/"
    },
    "deepnote_cell_height": 65.60000610351562,
    "deepnote_cell_type": "code",
    "id": "dvNfAT_JwUxI",
    "outputId": "1017f41e-3dc2-4b16-c296-196e1e7deea6"
   },
   "outputs": [
    {
     "name": "stdout",
     "output_type": "stream",
     "text": [
      "(10.524468537414966, 10.524468537414966, 0.11510204081632636, -0.11510204081632636, 0.5950261967780849, 9.181818181818182, 151.165, 142.093, 151.063328528, 58, 0, 0.22074743631242583, -0.5079643157925783, 0.5079643157925783, 0.22074743631242583, 1.3636363636363635, 1.9090909090909092, 2.3636363636363638, 16.25468871437965, 10.280190859964755, 1.9280360590359866, -1.9945540738765895, 2.12524757916018, -2.04401131261029, 5.88095478459792, -0.11373578338266109, 1.9291266251851134, 2.7362980721056545, 253.29949758389105, 8.267584713501616, 6.164862962722325, 6.164862962722325, 5.1815405503520555, 3.2490981480278296, 3.2490981480278296, 2.228060242189872, 2.228060242189872, 1.1876733148984595, 1.1876733148984595, 0.7480265991539318, 0.7480265991539318, -1.5099999999999998, 285.51074052739676, 7.595374077976819, 3.0531381005525, 2.292303972882069, 64.66690538413799, 10.423315998847038, 5.749511833283905, 0.0, 5.907179729351506, 0.0, 0.0, 4.794537184071822, 0.0, 0.0, 0.0, 0.0, 24.26546827384644, 12.611123474374185, 0.0, 9.901064578912528, 11.594566004035068, 0.0, 0.0, 0.0, 6.923737199690624, 5.316788604006331, 24.26546827384644, 0.0, 5.749511833283905, 5.316788604006331, 5.687386274683562, 5.749511833283905, 0.0, 11.013707124192212, 4.794537184071822, 0.0, 6.923737199690624, 24.26546827384644, 0.0, 0.0, 0.0, 49.33, 0.0, 4.794537184071822, 0.0, 11.65669156263541, 5.687386274683562, 0.0, 19.056471336613843, 12.13273413692322, 0.0, 5.316788604006331, 5.106527394840706, 0.0, 0.0, 10.524468537414966, 11.460032596371882, 0.6900925925925929, 0.07851095993953194, 6.309537037037037, 0.0, 1.437358276643991, 0.0, 0.125, 11, 2, 3, 0, 0, 0, 1, 0, 1, 2, 2, 3, 1, 0, 0, 0, 1, 1.3505999999999998, 42.41050000000002, 0, 0, 0, 0, 0, 0, 0, 1, 0, 0, 1, 1, 0, 0, 0, 0, 1, 0, 0, 0, 0, 0, 0, 0, 0, 0, 0, 1, 0, 1, 0, 0, 0, 0, 1, 0, 0, 0, 0, 0, 0, 0, 0, 0, 0, 0, 0, 0, 0, 0, 0, 0, 0, 0, 0, 0, 0, 0, 0, 0, 0, 0, 0, 0, 0, 1, 1, 0, 0, 0, 0, 0, 0, 0, 0, 0, 0, 0, 0, 0, 0, 0, 0, 0, 0)\n"
     ]
    }
   ],
   "source": [
    "calculator = MolecularDescriptorCalculator([t[0] for t in Descriptors._descList])\n",
    "descriptors = calculator.CalcDescriptors(paracetamol)\n",
    "print(descriptors)"
   ]
  },
  {
   "cell_type": "markdown",
   "metadata": {
    "cell_id": "00042-baa938b8-9cb5-44b3-89d4-4ebaef013670",
    "deepnote_cell_height": 52,
    "deepnote_cell_type": "markdown",
    "id": "vQcACF5K3l1y"
   },
   "source": [
    "Display the names and the fvalues of the descriptors"
   ]
  },
  {
   "cell_type": "code",
   "execution_count": 92,
   "metadata": {
    "colab": {
     "base_uri": "https://localhost:8080/"
    },
    "id": "jw6XPr2XX_s0",
    "outputId": "3226417c-026f-40f2-f869-350239614721"
   },
   "outputs": [
    {
     "name": "stdout",
     "output_type": "stream",
     "text": [
      "MaxAbsEStateIndex: 10.524468537414966\n",
      "MaxEStateIndex: 10.524468537414966\n",
      "MinAbsEStateIndex: 0.11510204081632636\n",
      "MinEStateIndex: -0.11510204081632636\n",
      "qed: 0.5950261967780849\n",
      "SPS: 9.181818181818182\n",
      "MolWt: 151.165\n",
      "HeavyAtomMolWt: 142.093\n",
      "ExactMolWt: 151.063328528\n",
      "NumValenceElectrons: 58\n",
      "NumRadicalElectrons: 0\n",
      "MaxPartialCharge: 0.22074743631242583\n",
      "MinPartialCharge: -0.5079643157925783\n",
      "MaxAbsPartialCharge: 0.5079643157925783\n",
      "MinAbsPartialCharge: 0.22074743631242583\n",
      "FpDensityMorgan1: 1.3636363636363635\n",
      "FpDensityMorgan2: 1.9090909090909092\n",
      "FpDensityMorgan3: 2.3636363636363638\n",
      "BCUT2D_MWHI: 16.25468871437965\n",
      "BCUT2D_MWLOW: 10.280190859964755\n",
      "BCUT2D_CHGHI: 1.9280360590359866\n",
      "BCUT2D_CHGLO: -1.9945540738765895\n",
      "BCUT2D_LOGPHI: 2.12524757916018\n",
      "BCUT2D_LOGPLOW: -2.04401131261029\n",
      "BCUT2D_MRHI: 5.88095478459792\n",
      "BCUT2D_MRLOW: -0.11373578338266109\n",
      "AvgIpc: 1.9291266251851134\n",
      "BalabanJ: 2.7362980721056545\n",
      "BertzCT: 253.29949758389105\n",
      "Chi0: 8.267584713501616\n",
      "Chi0n: 6.164862962722325\n",
      "Chi0v: 6.164862962722325\n",
      "Chi1: 5.1815405503520555\n",
      "Chi1n: 3.2490981480278296\n",
      "Chi1v: 3.2490981480278296\n",
      "Chi2n: 2.228060242189872\n",
      "Chi2v: 2.228060242189872\n",
      "Chi3n: 1.1876733148984595\n",
      "Chi3v: 1.1876733148984595\n",
      "Chi4n: 0.7480265991539318\n",
      "Chi4v: 0.7480265991539318\n",
      "HallKierAlpha: -1.5099999999999998\n",
      "Ipc: 285.51074052739676\n",
      "Kappa1: 7.595374077976819\n",
      "Kappa2: 3.0531381005525\n",
      "Kappa3: 2.292303972882069\n",
      "LabuteASA: 64.66690538413799\n",
      "PEOE_VSA1: 10.423315998847038\n",
      "PEOE_VSA10: 5.749511833283905\n",
      "PEOE_VSA11: 0.0\n",
      "PEOE_VSA12: 5.907179729351506\n",
      "PEOE_VSA13: 0.0\n",
      "PEOE_VSA14: 0.0\n",
      "PEOE_VSA2: 4.794537184071822\n",
      "PEOE_VSA3: 0.0\n",
      "PEOE_VSA4: 0.0\n",
      "PEOE_VSA5: 0.0\n",
      "PEOE_VSA6: 0.0\n",
      "PEOE_VSA7: 24.26546827384644\n",
      "PEOE_VSA8: 12.611123474374185\n",
      "PEOE_VSA9: 0.0\n",
      "SMR_VSA1: 9.901064578912528\n",
      "SMR_VSA10: 11.594566004035068\n",
      "SMR_VSA2: 0.0\n",
      "SMR_VSA3: 0.0\n",
      "SMR_VSA4: 0.0\n",
      "SMR_VSA5: 6.923737199690624\n",
      "SMR_VSA6: 5.316788604006331\n",
      "SMR_VSA7: 24.26546827384644\n",
      "SMR_VSA8: 0.0\n",
      "SMR_VSA9: 5.749511833283905\n",
      "SlogP_VSA1: 5.316788604006331\n",
      "SlogP_VSA10: 5.687386274683562\n",
      "SlogP_VSA11: 5.749511833283905\n",
      "SlogP_VSA12: 0.0\n",
      "SlogP_VSA2: 11.013707124192212\n",
      "SlogP_VSA3: 4.794537184071822\n",
      "SlogP_VSA4: 0.0\n",
      "SlogP_VSA5: 6.923737199690624\n",
      "SlogP_VSA6: 24.26546827384644\n",
      "SlogP_VSA7: 0.0\n",
      "SlogP_VSA8: 0.0\n",
      "SlogP_VSA9: 0.0\n",
      "TPSA: 49.33\n",
      "EState_VSA1: 0.0\n",
      "EState_VSA10: 4.794537184071822\n",
      "EState_VSA11: 0.0\n",
      "EState_VSA2: 11.65669156263541\n",
      "EState_VSA3: 5.687386274683562\n",
      "EState_VSA4: 0.0\n",
      "EState_VSA5: 19.056471336613843\n",
      "EState_VSA6: 12.13273413692322\n",
      "EState_VSA7: 0.0\n",
      "EState_VSA8: 5.316788604006331\n",
      "EState_VSA9: 5.106527394840706\n",
      "VSA_EState1: 0.0\n",
      "VSA_EState10: 0.0\n",
      "VSA_EState2: 10.524468537414966\n",
      "VSA_EState3: 11.460032596371882\n",
      "VSA_EState4: 0.6900925925925929\n",
      "VSA_EState5: 0.07851095993953194\n",
      "VSA_EState6: 6.309537037037037\n",
      "VSA_EState7: 0.0\n",
      "VSA_EState8: 1.437358276643991\n",
      "VSA_EState9: 0.0\n",
      "FractionCSP3: 0.125\n",
      "HeavyAtomCount: 11\n",
      "NHOHCount: 2\n",
      "NOCount: 3\n",
      "NumAliphaticCarbocycles: 0\n",
      "NumAliphaticHeterocycles: 0\n",
      "NumAliphaticRings: 0\n",
      "NumAromaticCarbocycles: 1\n",
      "NumAromaticHeterocycles: 0\n",
      "NumAromaticRings: 1\n",
      "NumHAcceptors: 2\n",
      "NumHDonors: 2\n",
      "NumHeteroatoms: 3\n",
      "NumRotatableBonds: 1\n",
      "NumSaturatedCarbocycles: 0\n",
      "NumSaturatedHeterocycles: 0\n",
      "NumSaturatedRings: 0\n",
      "RingCount: 1\n",
      "MolLogP: 1.3505999999999998\n",
      "MolMR: 42.41050000000002\n",
      "fr_Al_COO: 0\n",
      "fr_Al_OH: 0\n",
      "fr_Al_OH_noTert: 0\n",
      "fr_ArN: 0\n",
      "fr_Ar_COO: 0\n",
      "fr_Ar_N: 0\n",
      "fr_Ar_NH: 0\n",
      "fr_Ar_OH: 1\n",
      "fr_COO: 0\n",
      "fr_COO2: 0\n",
      "fr_C_O: 1\n",
      "fr_C_O_noCOO: 1\n",
      "fr_C_S: 0\n",
      "fr_HOCCN: 0\n",
      "fr_Imine: 0\n",
      "fr_NH0: 0\n",
      "fr_NH1: 1\n",
      "fr_NH2: 0\n",
      "fr_N_O: 0\n",
      "fr_Ndealkylation1: 0\n",
      "fr_Ndealkylation2: 0\n",
      "fr_Nhpyrrole: 0\n",
      "fr_SH: 0\n",
      "fr_aldehyde: 0\n",
      "fr_alkyl_carbamate: 0\n",
      "fr_alkyl_halide: 0\n",
      "fr_allylic_oxid: 0\n",
      "fr_amide: 1\n",
      "fr_amidine: 0\n",
      "fr_aniline: 1\n",
      "fr_aryl_methyl: 0\n",
      "fr_azide: 0\n",
      "fr_azo: 0\n",
      "fr_barbitur: 0\n",
      "fr_benzene: 1\n",
      "fr_benzodiazepine: 0\n",
      "fr_bicyclic: 0\n",
      "fr_diazo: 0\n",
      "fr_dihydropyridine: 0\n",
      "fr_epoxide: 0\n",
      "fr_ester: 0\n",
      "fr_ether: 0\n",
      "fr_furan: 0\n",
      "fr_guanido: 0\n",
      "fr_halogen: 0\n",
      "fr_hdrzine: 0\n",
      "fr_hdrzone: 0\n",
      "fr_imidazole: 0\n",
      "fr_imide: 0\n",
      "fr_isocyan: 0\n",
      "fr_isothiocyan: 0\n",
      "fr_ketone: 0\n",
      "fr_ketone_Topliss: 0\n",
      "fr_lactam: 0\n",
      "fr_lactone: 0\n",
      "fr_methoxy: 0\n",
      "fr_morpholine: 0\n",
      "fr_nitrile: 0\n",
      "fr_nitro: 0\n",
      "fr_nitro_arom: 0\n",
      "fr_nitro_arom_nonortho: 0\n",
      "fr_nitroso: 0\n",
      "fr_oxazole: 0\n",
      "fr_oxime: 0\n",
      "fr_para_hydroxylation: 0\n",
      "fr_phenol: 1\n",
      "fr_phenol_noOrthoHbond: 1\n",
      "fr_phos_acid: 0\n",
      "fr_phos_ester: 0\n",
      "fr_piperdine: 0\n",
      "fr_piperzine: 0\n",
      "fr_priamide: 0\n",
      "fr_prisulfonamd: 0\n",
      "fr_pyridine: 0\n",
      "fr_quatN: 0\n",
      "fr_sulfide: 0\n",
      "fr_sulfonamd: 0\n",
      "fr_sulfone: 0\n",
      "fr_term_acetylene: 0\n",
      "fr_tetrazole: 0\n",
      "fr_thiazole: 0\n",
      "fr_thiocyan: 0\n",
      "fr_thiophene: 0\n",
      "fr_unbrch_alkane: 0\n",
      "fr_urea: 0\n"
     ]
    }
   ],
   "source": [
    "for (name, _), value in zip(Descriptors._descList, descriptors):\n",
    "    print(f\"{name}: {value}\")"
   ]
  },
  {
   "cell_type": "markdown",
   "metadata": {
    "cell_id": "00044-44ab437c-a7e6-40f8-bfc6-d2d620d6a9b8",
    "deepnote_cell_height": 181.1999969482422,
    "deepnote_cell_type": "markdown",
    "id": "gljbmF6p3RX8"
   },
   "source": [
    "### Fingerprinting\n",
    "\n",
    "\n",
    "A chemical structure can be characterized by a set of numerical values known as molecular fingerprints. They may be 2D Fragment-based fingerprints presented by bit arrays of 0s and 1s wherein each bit position indicates the presence or absence of structural fragments.\n",
    "\n",
    "\n",
    "The RDKit has a variety of built-in functionality for generating molecular fingerprints and then using them to calculate molecular similarity. In this exercise, we will generate the fingerprints for parcetamol and aspirin that are two popular drugs used for pains.\n",
    "\n",
    "\n"
   ]
  },
  {
   "cell_type": "code",
   "execution_count": 95,
   "metadata": {
    "id": "p8IVy-BEZxRI"
   },
   "outputs": [],
   "source": [
    "aspirin_smiles = 'CC(=O)OC1=CC=CC=C1C(=O)O'\n",
    "aspirin = MolFromSmiles(aspirin_smiles)"
   ]
  },
  {
   "cell_type": "markdown",
   "metadata": {
    "cell_id": "00046-96542193-46de-4bf5-bbe3-c2b33cd02541",
    "deepnote_cell_height": 52,
    "deepnote_cell_type": "markdown",
    "id": "HxkjJfp_wUxJ"
   },
   "source": [
    "\n",
    "With the help of rdkit.Chem.AllChem.GetMorganFingerprintAsBitVect, compute its fingerprint as a bit vector."
   ]
  },
  {
   "cell_type": "code",
   "execution_count": 121,
   "metadata": {
    "cell_id": "00045-47b42508-c127-4cc3-a856-3af0b9214962",
    "deepnote_cell_height": 65.60000610351562,
    "deepnote_cell_type": "code",
    "id": "iqNa6jcFwUxJ"
   },
   "outputs": [],
   "source": [
    "paracetamol_fingerprint = AllChem.GetMorganFingerprintAsBitVect(paracetamol, 2, nBits=2048)\n",
    "aspirin_fingerprint = AllChem.GetMorganFingerprintAsBitVect(aspirin, 2, nBits=2048)"
   ]
  },
  {
   "cell_type": "markdown",
   "metadata": {
    "cell_id": "00049-124332bb-7155-4988-99ea-8aae57250921",
    "deepnote_cell_height": 52,
    "deepnote_cell_type": "markdown",
    "id": "3Sy7vELwwUxJ"
   },
   "source": [
    "Display its type"
   ]
  },
  {
   "cell_type": "code",
   "execution_count": 101,
   "metadata": {
    "cell_id": "00050-7ebe67af-4ad8-4efc-91c8-5cf4471d7f20",
    "colab": {
     "base_uri": "https://localhost:8080/"
    },
    "deepnote_cell_height": 65.60000610351562,
    "deepnote_cell_type": "code",
    "id": "Tev1bWf7uEod",
    "outputId": "c13b917e-1367-4fa4-f948-32c180d818a3"
   },
   "outputs": [
    {
     "data": {
      "text/plain": [
       "rdkit.DataStructs.cDataStructs.ExplicitBitVect"
      ]
     },
     "execution_count": 101,
     "metadata": {},
     "output_type": "execute_result"
    }
   ],
   "source": [
    "type(aspirin_fingerprint)"
   ]
  },
  {
   "cell_type": "markdown",
   "metadata": {
    "cell_id": "00051-a3e0e354-4c07-42c0-a881-bbd85e4e20d9",
    "deepnote_cell_height": 52,
    "deepnote_cell_type": "markdown",
    "id": "hdnCb6wbwUxJ"
   },
   "source": [
    "With the DataStructs module convert it to a numpy vector and display it shape and display it"
   ]
  },
  {
   "cell_type": "code",
   "execution_count": 109,
   "metadata": {
    "cell_id": "00052-23e08096-90d3-4f5c-862f-f305fc122eac",
    "colab": {
     "base_uri": "https://localhost:8080/"
    },
    "deepnote_cell_height": 65.60000610351562,
    "deepnote_cell_type": "code",
    "id": "HwbR6a7WwUxK",
    "outputId": "44bc998a-0c60-4bf4-cf63-c2186796664d"
   },
   "outputs": [
    {
     "name": "stdout",
     "output_type": "stream",
     "text": [
      "[0. 0. 0. ... 0. 0. 0.]\n",
      "(2048,)\n"
     ]
    }
   ],
   "source": [
    "import numpy as np\n",
    "\n",
    "aspirin_fingerprint_np = np.zeros((1,))\n",
    "DataStructs.ConvertToNumpyArray(aspirin_fingerprint, aspirin_fingerprint_np)\n",
    "print(aspirin_fingerprint_np)\n",
    "print(aspirin_fingerprint_np.shape)"
   ]
  },
  {
   "cell_type": "markdown",
   "metadata": {
    "cell_id": "00053-d445fd97-c635-4ec2-8fa0-eec4143e799a",
    "deepnote_cell_height": 74.39999389648438,
    "deepnote_cell_type": "markdown",
    "id": "tI6Y7KjewUxK"
   },
   "source": [
    "Create a function smiles_to_np_morganfingerprinting which takes a smile representation and gives back the numpy version of the morgan finger_printing"
   ]
  },
  {
   "cell_type": "code",
   "execution_count": 117,
   "metadata": {
    "cell_id": "00054-8b86b5b2-d2b3-4a57-b843-50c58c961a81",
    "deepnote_cell_height": 65.60000610351562,
    "deepnote_cell_type": "code",
    "id": "JmmrCUJZwUxK"
   },
   "outputs": [],
   "source": [
    "def smiles_to_np_morganfingerprinting(smile):\n",
    "    mol = MolFromSmiles(smile)\n",
    "    fingerprint = AllChem.GetMorganFingerprintAsBitVect(mol, 2, nBits=2048)\n",
    "    fingerprint_np = np.zeros((1,))\n",
    "    DataStructs.ConvertToNumpyArray(fingerprint, fingerprint_np)\n",
    "    return fingerprint_np"
   ]
  },
  {
   "cell_type": "markdown",
   "metadata": {
    "cell_id": "00056-45dc63e1-8d6d-4952-8617-c619691e31f4",
    "deepnote_cell_height": 52,
    "deepnote_cell_type": "markdown",
    "id": "fOUdg2zOwUxK"
   },
   "source": [
    "Compute the morgan finger printing of the aspirin (CC(=O)OC1=CC=CC=C1C(O)=O) and paracetamol (CC(=O)NC1=CC=C(O)C=C1)"
   ]
  },
  {
   "cell_type": "code",
   "execution_count": 118,
   "metadata": {
    "cell_id": "00057-8320ba76-7bf0-457f-a278-5f08ed8055bc",
    "deepnote_cell_height": 65.60000610351562,
    "deepnote_cell_type": "code",
    "id": "QIQGbJsBwUxK"
   },
   "outputs": [],
   "source": [
    "aspirin_fingerprint_np = smiles_to_np_morganfingerprinting(aspirin_smiles)\n",
    "paracetamol_fingerprint_np = smiles_to_np_morganfingerprinting(smile)"
   ]
  },
  {
   "cell_type": "markdown",
   "metadata": {
    "cell_id": "00058-61ab6f17-0a6c-47b7-9c52-7822f70728b2",
    "deepnote_cell_height": 52,
    "deepnote_cell_type": "markdown",
    "id": "ToJe2WjywUxK"
   },
   "source": [
    "Compute the DiceSimilarity of the two molecules"
   ]
  },
  {
   "cell_type": "code",
   "execution_count": 120,
   "metadata": {
    "colab": {
     "base_uri": "https://localhost:8080/"
    },
    "id": "vEe5vFQzPbz0",
    "outputId": "ade89c23-8d47-44ee-e1c7-376ad406a2f4"
   },
   "outputs": [
    {
     "name": "stdout",
     "output_type": "stream",
     "text": [
      "Dice similarity between paracetamol and aspirin: 0.36363636363636365\n"
     ]
    }
   ],
   "source": [
    "similarity_dice = DataStructs.DiceSimilarity(paracetamol_fingerprint, aspirin_fingerprint)\n",
    "print(f\"Dice similarity between paracetamol and aspirin: {similarity_dice}\")"
   ]
  }
 ],
 "metadata": {
  "colab": {
   "provenance": []
  },
  "deepnote": {},
  "deepnote_execution_queue": [],
  "deepnote_notebook_id": "18337e56-066d-4992-8ec7-3b37b0c030cc",
  "kernelspec": {
   "display_name": "Python 3 (ipykernel)",
   "language": "python",
   "name": "python3"
  },
  "language_info": {
   "codemirror_mode": {
    "name": "ipython",
    "version": 3
   },
   "file_extension": ".py",
   "mimetype": "text/x-python",
   "name": "python",
   "nbconvert_exporter": "python",
   "pygments_lexer": "ipython3",
   "version": "3.10.12"
  }
 },
 "nbformat": 4,
 "nbformat_minor": 4
}
